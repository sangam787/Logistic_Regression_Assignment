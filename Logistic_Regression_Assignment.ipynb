{
  "cells": [
    {
      "cell_type": "markdown",
      "metadata": {
        "id": "vwEAHfauZ3mb"
      },
      "source": [
        "#**Logistic :-**\n",
        "\n",
        "#**Assignment Questions**\n",
        "\n",
        "#**Theoretical:-**\n"
      ]
    },
    {
      "cell_type": "markdown",
      "metadata": {
        "id": "3bqwYatoZ5lS"
      },
      "source": [
        "#Que-1What is Logistic Regression, and how does it differ from Linear Regression?\n",
        "#**Ans-1**\n",
        "\n",
        "Logistic Regression is a statistical method used for classification tasks, where the goal is to predict the probability of a data point belonging to a specific class. It's a type of supervised learning algorithm, meaning it learns from labeled data to make predictions.\n",
        "\n",
        "**How does it differ from Linear Regression?**\n",
        "\n",
        "\n",
        "\n",
        "1. Purpose:\n",
        "\n",
        " * Linear Regression: Predicts a continuous output variable (e.g., predicting house prices).\n",
        " * Logistic Regression: Predicts a categorical or discrete output variable (e.g., classifying emails as spam or not spam).\n",
        "\n",
        "\n",
        "2. Output:\n",
        "\n",
        " * Linear Regression: Output is a continuous value.\n",
        " * Logistic Regression: Output is a probability between 0 and 1, representing the likelihood of belonging to a specific class.\n",
        "\n",
        "3. Model:\n",
        "\n",
        " * Linear Regression: Uses a linear equation to model the relationship between variables.\n",
        " * Logistic Regression: Uses a sigmoid function to transform the linear equation's output into a probability.\n",
        "\n",
        "4. Cost Function:\n",
        "\n",
        " * Linear Regression: Uses mean squared error to measure the difference between predicted and actual values.\n",
        " * Logistic Regression: Uses log loss (or cross-entropy) to measure the error in probability predictions.\n",
        "\n",
        "5. Evaluation Metrics:\n",
        "\n",
        " * Linear Regression: Uses metrics like R-squared, mean absolute error, etc.\n",
        " * Logistic Regression: Uses metrics like accuracy, precision, recall, F1-score, ROC-AUC, etc."
      ]
    },
    {
      "cell_type": "markdown",
      "metadata": {
        "id": "nQDjldhZZ5r2"
      },
      "source": [
        "#Que-2 What is the mathematical equation of Logistic Regression?\n",
        "#**Ans-2**\n",
        "\n",
        "The core of Logistic Regression lies in the sigmoid function, also known as the logistic function. This function takes any real-valued input and maps it to an output between 0 and 1, representing a probability.\n",
        "\n",
        "Here's the equation:\n",
        "\n",
        "\n",
        "p = 1 / (1 + e^(-z))\n",
        "\n",
        "where:\n",
        "\n",
        "* p is the predicted probability of the data point belonging to the positive class (class 1).\n",
        "* e is the base of the natural logarithm (approximately 2.718).\n",
        "* z is the linear combination of the input features and their corresponding weights, represented as:"
      ]
    },
    {
      "cell_type": "markdown",
      "metadata": {
        "id": "xAo0B0jJZ5yJ"
      },
      "source": [
        "#Que-3 Why do we use the Sigmoid function in Logistic Regression?\n",
        "#**Ans-3**\n",
        "\n",
        "The Sigmoid function, also known as the logistic function, plays a central role in Logistic Regression for the following reasons:\n",
        "\n",
        "1. Probability Mapping: The primary purpose of Logistic Regression is to predict the probability of a data point belonging to a specific class. The Sigmoid function takes any real-valued input (the result of the linear equation) and maps it to an output between 0 and 1, which represents a probability. This mapping ensures that the model's output is always within the valid range for probabilities.\n",
        "\n",
        "2. Decision Boundary: The Sigmoid function helps create a smooth, non-linear decision boundary between classes. In classification tasks, we aim to separate data points into distinct categories. The Sigmoid function's S-shaped curve allows for a gradual transition between classes, rather than a sharp, abrupt cutoff. This smooth boundary is often more suitable for real-world data.\n",
        "\n",
        "3. Differentiability: The Sigmoid function is differentiable, meaning it has a derivative that can be calculated. This property is crucial for training the Logistic Regression model using optimization algorithms like gradient descent. The derivative of the Sigmoid function is used to update the model's weights and improve its predictions.\n",
        "\n",
        "4. Interpretability: The output of the Sigmoid function can be interpreted as the probability of the positive class (class 1). This interpretability is valuable for understanding the model's predictions and assessing their confidence levels."
      ]
    },
    {
      "cell_type": "markdown",
      "metadata": {
        "id": "8RZSVS_iZ536"
      },
      "source": [
        "#Que-4 What is the cost function of Logistic Regression?\n",
        "#**Ans-4**\n",
        "\n",
        "In Logistic Regression, the cost function is used to measure the error between the model's predictions and the actual values. The goal is to minimize this error during the training process to obtain an accurate model.\n",
        "\n",
        "The cost function for Logistic Regression is called the Log Loss or Cross-Entropy Loss. Here's the formula:\n",
        "\n",
        "\n",
        "Cost(hθ(x), y) = -y * log(hθ(x)) - (1 - y) * log(1 - hθ(x))\n",
        "\n",
        "Where:\n",
        "\n",
        "* hθ(x) is the model's prediction (probability of the positive class) for a given input x.\n",
        "* y is the actual class label (0 or 1)."
      ]
    },
    {
      "cell_type": "markdown",
      "metadata": {
        "id": "sa4zWocRZ5-E"
      },
      "source": [
        "#Que-5 What is Regularization in Logistic Regression? Why is it needed?\n",
        "#**Ans-5**\n",
        "\n",
        "Regularization is a technique used in machine learning to prevent overfitting, which occurs when a model learns the training data too well and performs poorly on unseen data. It does this by adding a penalty term to the cost function, discouraging the model from assigning excessively large weights to features.\n",
        "\n",
        "\n",
        "In Logistic Regression, regularization is particularly important for the following reasons:\n",
        "\n",
        "1. Preventing Overfitting: When a Logistic Regression model is overfit, it may capture noise or random fluctuations in the training data as patterns, leading to poor generalization to new data. Regularization helps to smooth out the decision boundary and prevent the model from memorizing the training set.\n",
        "\n",
        "2. Handling Multicollinearity: Multicollinearity occurs when features are highly correlated with each other. This can make it difficult for the model to determine the individual importance of each feature. Regularization helps to stabilize the model and reduce the impact of multicollinearity.\n",
        "\n",
        "3. Improving Model Generalization: By preventing overfitting and handling multicollinearity, regularization improves the model's ability to generalize well to unseen data, making it more robust and reliable in real-world scenarios."
      ]
    },
    {
      "cell_type": "markdown",
      "metadata": {
        "id": "4R4BZRtRZ6ED"
      },
      "source": [
        "#Que-6 Explain the difference between Lasso, Ridge, and Elastic Net regression.\n",
        "#**Ans-6**\n",
        "\n",
        "These three techniques are all forms of regularization, a crucial concept in machine learning used to prevent overfitting and improve model generalization. They achieve this by adding a penalty term to the loss function, discouraging the model from assigning excessively large weights to features.\n",
        "\n",
        "Here's a breakdown of their differences:\n",
        "\n",
        " 1. **Lasso Regression (L1 Regularization):**\n",
        "\n",
        "* Penalty Term: Adds a penalty proportional to the absolute values of the coefficients (L1 penalty).\n",
        "* Effect: Shrinks some coefficients to exactly zero, effectively performing feature selection. This leads to a sparse model with fewer features.\n",
        "* Benefits:\n",
        " * Automatic feature selection, simplifying the model.\n",
        " * Can handle datasets with more features than observations.\n",
        "* Drawbacks:\n",
        " * May randomly select one feature among a group of highly correlated features.\n",
        " * Can be unstable with highly correlated features.\n",
        "\n",
        "2. **Ridge Regression (L2 Regularization):**\n",
        "\n",
        "* Penalty Term: Adds a penalty proportional to the square of the coefficients (L2 penalty).\n",
        "* Effect: Shrinks coefficients towards zero, but rarely to exactly zero. This reduces the impact of all features without eliminating any.\n",
        "* Benefits:\n",
        " * Handles multicollinearity (high correlation between features) better than Lasso.\n",
        " * Generally produces more stable models.\n",
        "* Drawbacks:\n",
        " * Doesn't perform feature selection, keeping all features in the model.\n",
        " * May not be as effective as Lasso in highly sparse datasets.\n",
        "\n",
        "3. **Elastic Net Regression:**\n",
        "\n",
        "* Penalty Term: Combines both L1 and L2 penalties.\n",
        "* Effect: Balances feature selection (from Lasso) and coefficient shrinkage (from Ridge).\n",
        "* Benefits:\n",
        " * Enjoys the benefits of both Lasso and Ridge.\n",
        " * Handles multicollinearity well and performs feature selection.\n",
        " * More stable and robust than Lasso in many cases.\n",
        "* Drawbacks:\n",
        " * Introduces an additional hyperparameter to tune (the mixing parameter between L1 and L2 penalties)."
      ]
    },
    {
      "cell_type": "markdown",
      "metadata": {
        "id": "zQE_ae2XZ6KZ"
      },
      "source": [
        "#Que-7 When should we use Elastic Net instead of Lasso or Ridge?\n",
        "#**Ans-7**\n",
        "\n",
        "Use Elastic Net when:\n",
        "\n",
        "1. You have a dataset with many features, some of which are highly correlated. Elastic Net combines the strengths of both Lasso and Ridge, making it a good choice in this scenario. Lasso tends to arbitrarily select one feature from a group of correlated features, while Ridge shrinks all their coefficients towards zero. Elastic Net strikes a balance by performing feature selection (like Lasso) while also handling multicollinearity effectively (like Ridge).\n",
        "\n",
        "2. You want a model that is both sparse and stable. Lasso can create very sparse models by setting some coefficients to zero, but it can be unstable if there are many correlated features. Ridge produces more stable models, but they may not be as sparse. Elastic Net offers a compromise between sparsity and stability.\n",
        "\n",
        "3. You're unsure whether to use Lasso or Ridge. Elastic Net can be a good option if you're not sure which type of regularization is best for your data. By combining both L1 and L2 penalties, it offers a more flexible approach."
      ]
    },
    {
      "cell_type": "markdown",
      "metadata": {
        "id": "a7zvywmlZ6Qp"
      },
      "source": [
        "#Que-8 What is the impact of the regularization parameter (λ) in Logistic Regression?\n",
        "#**Ans-8**\n",
        "\n",
        "Impact of λ on Model Complexity and Overfitting\n",
        "\n",
        "* High λ (or small C): A high value of λ (or small C) imposes a strong penalty on large coefficients. This leads to:\n",
        "\n",
        " * Simpler Models: The model is encouraged to have smaller weights, effectively shrinking the influence of individual features.\n",
        " * Reduced Overfitting: The model is less likely to overfit the training data by capturing noise or random fluctuations.\n",
        " * Increased Bias: However, with excessive regularization, the model might underfit the data and not capture important patterns.\n",
        " * Example: Imagine using L2 regularization. If λ is high, the cost function is heavily penalized for large weights. During optimization, the model will prioritize minimizing this penalty, leading to smaller weight values overall.\n",
        "\n",
        "* Low λ (or large C): A low value of λ (or large C) imposes a weak penalty on large coefficients. This results in:\n",
        "\n",
        " * Complex Models: The model can have larger weights, allowing it to fit the training data more closely.\n",
        " * Increased Risk of Overfitting: However, with less regularization, the model is more likely to overfit the training data.\n",
        " * Reduced Bias: The model is less prone to underfitting but might capture noise or irrelevant details.\n",
        " * Example: Consider L1 regularization. If λ is low, the penalty for large weights is minimal. The model will try to fit the training data as closely as possible, potentially leading to overfitting if there's noise or outliers."
      ]
    },
    {
      "cell_type": "markdown",
      "metadata": {
        "id": "YaFc3ivyZ6Wp"
      },
      "source": [
        "#Que-9 What are the key assumptions of Logistic Regression?\n",
        "#**Ans-9**\n",
        "\n",
        "Logistic Regression, while a powerful and widely used algorithm, relies on certain assumptions for its results to be valid and reliable. Here are the key assumptions:\n",
        "\n",
        "1. Linearity in the Logit: Logistic Regression assumes a linear relationship between the independent variables and the log-odds (logit) of the dependent variable. The logit is the natural logarithm of the odds of the event occurring. In simpler terms, it assumes that a change in the predictor variables will have a proportional impact on the log-odds of the outcome.\n",
        "\n",
        "2. Independence of Errors: The errors (or residuals) should be independent of each other. This means that the error for one observation should not be related to the error for another observation. This assumption is important to ensure that the model's estimates are unbiased.\n",
        "\n",
        "3. No Multicollinearity: There should be little or no multicollinearity among the independent variables. Multicollinearity occurs when two or more predictor variables are highly correlated with each other. This can make it difficult to estimate the individual effects of each variable, leading to unstable and unreliable coefficients.\n",
        "\n",
        "4. No Outliers: The dataset should be free of extreme outliers that can significantly influence the model's estimates. Outliers can distort the relationship between the independent and dependent variables and lead to biased results.\n",
        "\n",
        "5. Large Sample Size: Logistic Regression generally performs better with larger datasets. A sufficient sample size helps ensure that the model's estimates are stable and reliable, especially when there are many predictor variables.\n",
        "\n",
        "6. Binary Outcome: Traditional Logistic Regression is designed for binary classification problems, where the dependent variable has only two possible outcomes (e.g., yes/no, 0/1). Although there are extensions for multi-class classification (like multinomial or ordinal logistic regression), the basic assumption is that the outcome is binary."
      ]
    },
    {
      "cell_type": "markdown",
      "metadata": {
        "id": "BU-npwkqZ6cJ"
      },
      "source": [
        "#Que-10 What are some alternatives to Logistic Regression for classification tasks?\n",
        "#**Ans-10**\n",
        "\n",
        "While Logistic Regression is a popular and effective algorithm for classification, there are several other methods that might be more suitable depending on the specific problem and dataset. Here are some alternatives:\n",
        "\n",
        "1. Support Vector Machines (SVM)\n",
        "\n",
        "* How they work: SVMs aim to find the best hyperplane that separates data points into different classes with the largest margin. They can handle both linear and non-linear classification tasks using kernel functions.\n",
        "* Strengths: Effective in high-dimensional spaces, versatile due to kernel functions, and robust to outliers.\n",
        "* Weaknesses: Can be computationally expensive for large datasets and sensitive to the choice of kernel function.\n",
        "2. Decision Trees\n",
        "\n",
        "* How they work: Decision Trees create a tree-like structure to classify data points based on a series of decisions made on feature values.\n",
        "* Strengths: Easy to understand and interpret, can handle both categorical and numerical data, and require minimal data preparation.\n",
        "* Weaknesses: Prone to overfitting, can be unstable if the data changes slightly, and may not perform well with complex relationships.\n",
        "3. Random Forests\n",
        "\n",
        "* How they work: Random Forests build an ensemble of decision trees and combine their predictions to improve accuracy and reduce overfitting.\n",
        "* Strengths: Robust to overfitting, handle high-dimensional data well, and can identify important features.\n",
        "* Weaknesses: Can be computationally expensive and less interpretable than single decision trees.\n",
        "4. Naive Bayes\n",
        "\n",
        "* How they work: Naive Bayes classifiers are based on Bayes' theorem and assume that features are independent of each other.\n",
        "* Strengths: Simple and fast, perform well with high-dimensional data, and effective for text classification tasks.\n",
        "* Weaknesses: The independence assumption is often unrealistic in real-world scenarios.\n",
        "5. K-Nearest Neighbors (KNN)\n",
        "\n",
        "* How they work: KNN classifies data points based on the class of their nearest neighbors in the feature space.\n",
        "* Strengths: Easy to understand and implement, no training phase required (lazy learner), and can handle non-linear decision boundaries.\n",
        "* Weaknesses: Can be computationally expensive for large datasets and sensitive to the choice of distance metric.\n",
        "6. Neural Networks\n",
        "\n",
        "* How they work: Neural Networks consist of interconnected nodes organized in layers that learn complex patterns from data.\n",
        "* Strengths: Can learn very complex relationships, highly flexible, and achieve state-of-the-art performance in many tasks.\n",
        "* Weaknesses: Can be computationally expensive, require large amounts of data, and often considered a \"black box\" due to their complexity."
      ]
    },
    {
      "cell_type": "markdown",
      "metadata": {
        "id": "JX4Su3SuZ6iZ"
      },
      "source": [
        "#Que-11 What are Classification Evaluation Metrics?\n",
        "#**Ans-11**\n",
        "\n",
        "Classification evaluation metrics are used to assess the performance of a classification model. They provide a way to quantify how well the model is able to predict the correct class labels for new, unseen data.\n",
        "\n",
        "Here are some commonly used classification evaluation metrics:\n",
        "\n",
        "1. Accuracy\n",
        "\n",
        "* Definition: The proportion of correctly classified instances out of the total number of instances.\n",
        "* Formula: (Number of correct predictions) / (Total number of predictions)\n",
        "* Interpretation: A higher accuracy indicates a better-performing model. However, it can be misleading when dealing with imbalanced datasets (where one class is much more prevalent than others).\n",
        "2. Precision\n",
        "\n",
        "* Definition: The proportion of true positive predictions out of all positive predictions made by the model.\n",
        "* Formula: (True Positives) / (True Positives + False Positives)\n",
        "* Interpretation: Precision measures the model's ability to avoid making false positive predictions. A higher precision indicates fewer false positives.\n",
        "3. Recall (Sensitivity)\n",
        "\n",
        "* Definition: The proportion of true positive predictions out of all actual positive instances in the dataset.\n",
        "* Formula: (True Positives) / (True Positives + False Negatives)\n",
        "* Interpretation: Recall measures the model's ability to correctly identify all positive instances. A higher recall indicates fewer false negatives.\n",
        "4. F1-Score\n",
        "\n",
        "* Definition: The harmonic mean of precision and recall, providing a balanced measure of both metrics.\n",
        "Formula: 2 * (Precision * Recall) / (Precision + Recall)\n",
        "* Interpretation: The F1-score is a useful metric when you want to consider both precision and recall, especially when dealing with imbalanced datasets.\n",
        "5. ROC-AUC (Receiver Operating Characteristic - Area Under the Curve)\n",
        "\n",
        "* Definition: A measure of the model's ability to distinguish between positive and negative classes across different classification thresholds.\n",
        "* Interpretation: A higher ROC-AUC score indicates better discrimination between classes. A score of 1 represents a perfect classifier, while a score of 0.5 represents a random classifier.\n",
        "6. Confusion Matrix\n",
        "\n",
        "* Definition: A table that summarizes the performance of a classification model by showing the counts of true positives, true negatives, false positives, and false negatives.\n",
        "* Interpretation: The confusion matrix provides a detailed view of the model's performance, allowing you to identify specific types of errors it makes."
      ]
    },
    {
      "cell_type": "markdown",
      "metadata": {
        "id": "B0PG6N8WZ6n5"
      },
      "source": [
        "#Que-12 How does class imbalance affect Logistic Regression?\n",
        "#**Ans-12**\n",
        "\n",
        "Class imbalance occurs when one class (the majority class) has significantly more instances than another class (the minority class) in a dataset. This imbalance can pose challenges for Logistic Regression, as the model might become biased towards the majority class and perform poorly on the minority class, which is often the class of interest.\n",
        "\n",
        "Here's how class imbalance affects Logistic Regression:\n",
        "\n",
        "1. Bias towards the Majority Class: Logistic Regression aims to minimize the overall error, and with imbalanced data, it can achieve this by simply predicting the majority class most of the time. This leads to high accuracy but poor performance on the minority class.\n",
        "\n",
        "2. Inaccurate Probability Estimates: The model might produce inaccurate probability estimates for the minority class. Since there are fewer examples of the minority class, the model has less information to learn its characteristics and might underestimate its probability.\n",
        "\n",
        "3. Poor Generalization on the Minority Class: The model may not generalize well to new, unseen data, especially for the minority class. It might misclassify minority class instances as the majority class, leading to a high rate of false negatives."
      ]
    },
    {
      "cell_type": "markdown",
      "metadata": {
        "id": "SZ8CyqgXZ6ur"
      },
      "source": [
        "#Que-13 What is Hyperparameter Tuning in Logistic Regression?\n",
        "#**Ans-13**\n",
        "\n",
        "Hyperparameters in Logistic Regression\n",
        "\n",
        "Some important hyperparameters in Logistic Regression include:\n",
        "\n",
        "* Regularization parameter (C or penalty): Controls the strength of regularization (L1, L2, or Elastic Net). A higher value of C means less regularization, while a lower value means stronger regularization.\n",
        "* Solver: The algorithm used for optimization (e.g., 'liblinear', 'lbfgs', 'saga'). Different solvers have different strengths and weaknesses and are suitable for different types of datasets.\n",
        "* tol (Tolerance for stopping criteria): Defines when the optimization algorithm should stop iterating.\n",
        "* max_iter (Maximum number of iterations): Limits the number of iterations the optimization algorithm can perform."
      ]
    },
    {
      "cell_type": "markdown",
      "metadata": {
        "id": "fxxN_cWxZ61l"
      },
      "source": [
        "#Que-14 What are different solvers in Logistic Regression? Which one should be used?\n",
        "#**Ans-14**\n",
        "\n",
        "In Logistic Regression, solvers are optimization algorithms used to find the best-fitting model parameters (coefficients) that minimize the cost function. Different solvers have different characteristics and are suitable for different types of datasets and problem settings.\n",
        "\n",
        "Here are some commonly used solvers in Logistic Regression:\n",
        "\n",
        "1. liblinear:\n",
        "\n",
        " * Uses a coordinate descent algorithm.\n",
        " * Suitable for small to medium-sized datasets.\n",
        " * Efficient for L1 and L2 regularization.\n",
        " * Supports both binary and multi-class classification.\n",
        "2. lbfgs:\n",
        "\n",
        " * Implements a limited-memory Broyden–Fletcher–Goldfarb–Shanno (BFGS) algorithm.\n",
        " * Suitable for larger datasets and problems with smooth cost functions.\n",
        " * Efficient for L2 regularization but does not support L1 regularization.\n",
        " * Supports only binary classification (use OneVsRestClassifier or OneVsOneClassifier for multi-class).\n",
        "3. newton-cg:\n",
        "\n",
        " * Uses a Newton-Conjugate Gradient algorithm.\n",
        " * Suitable for larger datasets and problems with smooth cost functions.\n",
        " * Efficient for L2 regularization but does not support L1 regularization.\n",
        " * Supports only binary classification (use OneVsRestClassifier or OneVsOneClassifier for multi-class).\n",
        "4. sag:\n",
        "\n",
        " * Implements a Stochastic Average Gradient descent algorithm.\n",
        " * Suitable for very large datasets.\n",
        " * Efficient for L2 regularization but does not support L1 regularization.\n",
        " * Supports only binary classification (use OneVsRestClassifier or OneVsOneClassifier for multi-class).\n",
        "\n",
        "5. saga:\n",
        "\n",
        " * A variant of sag that supports L1 regularization.\n",
        " * Suitable for very large datasets and for both L1 and L2 regularization.\n",
        " * Supports both binary and multi-class classification."
      ]
    },
    {
      "cell_type": "markdown",
      "metadata": {
        "id": "sWA8WN5CZ6-B"
      },
      "source": [
        "#Que-15 How is Logistic Regression extended for multiclass classification?\n",
        "#**Ans-15**\n",
        "\n",
        "While traditional Logistic Regression is designed for binary classification (two classes), it can be extended to handle multiclass problems where the dependent variable has more than two categories. There are two primary approaches for this extension:\n",
        "\n",
        "1. One-vs-Rest (OvR) or One-vs-All (OvA)\n",
        "\n",
        "* How it works: In OvR, a separate binary Logistic Regression model is trained for each class. Each model learns to distinguish between a specific class and all other classes. During prediction, the model that assigns the highest probability to a particular class is selected, and that class is assigned to the input data point.\n",
        "* Example: If you have three classes (A, B, C), you would train three models:\n",
        " * Model 1: Distinguishes between class A and classes B & C\n",
        " * Model 2: Distinguishes between class B and classes A & C\n",
        " * Model 3: Distinguishes between class C and classes A & B\n",
        "2. Multinomial Logistic Regression (Softmax Regression)\n",
        "\n",
        "* How it works: Multinomial Logistic Regression directly models the probability of an instance belonging to each class using a softmax function. The softmax function outputs a probability distribution over all classes, ensuring that the probabilities sum to 1. The class with the highest probability is assigned to the input data point.\n",
        "* Difference from OvR: Unlike OvR, which treats each class independently, Multinomial Logistic Regression considers all classes simultaneously when making predictions. This can lead to better performance in some cases, especially when the classes are correlated.\n"
      ]
    },
    {
      "cell_type": "markdown",
      "metadata": {
        "id": "tLpHYGgiZ7Eh"
      },
      "source": [
        "#Que-16 What are the advantages and disadvantages of Logistic Regression?\n",
        "#**Ans-16**\n",
        "\n",
        "Advantages of Logistic Regression\n",
        "\n",
        "1. Simplicity and Interpretability: Logistic Regression is relatively easy to understand and implement. The model's coefficients can be interpreted as the change in the log-odds of the outcome for a one-unit change in the predictor variable. This interpretability makes it valuable for understanding the relationships between variables.\n",
        "\n",
        "2. Efficiency: Logistic Regression is computationally efficient, especially for smaller datasets. It trains quickly and requires relatively low memory, making it suitable for applications where speed is crucial.\n",
        "\n",
        "3. Probability Estimates: Logistic Regression provides probability estimates for each class, which can be useful for understanding the model's confidence in its predictions and for making informed decisions based on those probabilities.\n",
        "\n",
        "4. Feature Importance: The model's coefficients can be used to identify the most important features for predicting the outcome, providing insights into the factors driving the classification.\n",
        "\n",
        "5. Regularization: Logistic Regression can incorporate regularization techniques (L1, L2, or Elastic Net) to prevent overfitting and improve generalization performance.\n",
        "\n",
        "6. Widely Used and Well-Understood: Logistic Regression is a well-established algorithm with extensive theoretical support and a large user base. This means that there are many resources and tools available for working with it.\n",
        "\n",
        "Disadvantages of Logistic Regression\n",
        "\n",
        "1. Linearity Assumption: Logistic Regression assumes a linear relationship between the independent variables and the log-odds of the dependent variable. This assumption might not hold for all datasets, and non-linear relationships might need to be addressed using feature engineering or other models.\n",
        "\n",
        "2. Sensitivity to Outliers: Logistic Regression can be sensitive to outliers, which can significantly influence the model's coefficients and predictions. Outlier detection and treatment might be necessary.\n",
        "\n",
        "3. Limited Complexity: Logistic Regression is a relatively simple model and might not be able to capture complex relationships or interactions between variables. More complex models like neural networks might be needed for such cases.\n",
        "\n",
        "4. Multicollinearity: Logistic Regression can be affected by multicollinearity (high correlation between predictor variables). This can lead to unstable coefficient estimates and difficulties in interpreting feature importance.\n",
        "\n",
        "5. Requires Large Datasets: While Logistic Regression can work with smaller datasets, it generally performs better with larger datasets to ensure reliable coefficient estimates and generalization performance."
      ]
    },
    {
      "cell_type": "markdown",
      "metadata": {
        "id": "WSZLhgKvZ7Jx"
      },
      "source": [
        "#Que-17 What are some use cases of Logistic Regression?\n",
        "#**Ans-17**\n",
        "\n",
        "Logistic Regression is a versatile algorithm used in various fields for binary and multiclass classification tasks. Here are some common use cases:\n",
        "\n",
        "1. Medical Diagnosis:\n",
        "\n",
        "* Predicting Disease Risk: Logistic Regression can be used to predict the likelihood of a patient developing a particular disease based on their medical history, symptoms, and risk factors.\n",
        "* Identifying Patients at High Risk: It can help identify individuals at higher risk of developing certain conditions, enabling early intervention and preventive measures.\n",
        "* Classifying Disease Severity: It can be used to classify the severity of a disease based on patient characteristics and test results.\n",
        "2. Financial Risk Assessment:\n",
        "\n",
        "* Credit Scoring: Logistic Regression is widely used in credit scoring to assess the creditworthiness of loan applicants and predict the probability of default.\n",
        "* Fraud Detection: It can help identify fraudulent transactions by analyzing patterns and anomalies in financial data.\n",
        "* Insurance Risk Prediction: It can be used to predict the likelihood of insurance claims based on customer profiles and policy details.\n",
        "3. Marketing and Customer Analytics:\n",
        "\n",
        "* Customer Churn Prediction: Logistic Regression can predict the likelihood of customers churning (leaving a service) based on their usage patterns, demographics, and feedback.\n",
        "* Targeted Advertising: It can help identify potential customers who are most likely to respond to a particular advertising campaign, enabling targeted marketing efforts.\n",
        "* Customer Segmentation: It can be used to segment customers into different groups based on their preferences and behavior, allowing businesses to personalize their offerings.\n",
        "4. Image Recognition and Natural Language Processing:\n",
        "\n",
        "* Spam Detection: Logistic Regression is commonly used in spam filters to classify emails as spam or not spam based on their content and sender information.\n",
        "* Sentiment Analysis: It can be used to analyze text data and classify the sentiment expressed as positive, negative, or neutral.\n",
        "* Object Recognition: It can be used in image recognition systems to identify and classify objects in images.\n",
        "5. Other Applications:\n",
        "\n",
        "* Predicting Election Outcomes: Logistic Regression has been used to predict the outcome of elections based on polling data and demographic information.\n",
        "* Assessing Student Performance: It can be used to predict student success or failure based on their academic records and other factors.\n",
        "* Classifying Documents: It can be used to categorize documents into different topics or genres based on their content."
      ]
    },
    {
      "cell_type": "markdown",
      "metadata": {
        "id": "dQHS5bF2Z7Qx"
      },
      "source": [
        "#Que-18 What is the difference between Softmax Regression and Logistic Regression?\n",
        "#**Ans-18**\n",
        "\n",
        "Softmax Regression vs. Logistic Regression\n",
        "\n",
        "While both Softmax Regression and Logistic Regression are used for classification tasks, they differ primarily in the number of classes they can handle:\n",
        "\n",
        "* Logistic Regression: Is typically used for binary classification problems, where the outcome variable has only two possible classes (e.g., 0 or 1, spam or not spam).\n",
        "\n",
        "* Softmax Regression (Multinomial Logistic Regression): Is a generalization of Logistic Regression that can handle multiclass classification problems, where the outcome variable can have three or more possible classes (e.g., classifying images into categories like cats, dogs, birds)."
      ]
    },
    {
      "cell_type": "markdown",
      "metadata": {
        "id": "gJydYttEZ7XN"
      },
      "source": [
        "#Que-19 How do we choose between One-vs-Rest (OvR) and Softmax for multiclass classification?\n",
        "#**Ans-19**\n",
        "\n",
        "proach and have different strengths and weaknesses.\n",
        "\n",
        "\n",
        "\n",
        "Consider OvR when:\n",
        "\n",
        "1. You have a large number of classes: OvR can be more computationally efficient than Softmax when dealing with many classes, as it trains independent binary classifiers for each class.\n",
        "2. Classes are not mutually exclusive: If there is some overlap or correlation between classes (e.g., an image could be tagged with multiple labels), OvR might be more suitable. It allows for instances to belong to multiple classes with different probabilities.\n",
        "3. You need interpretability: OvR is often easier to interpret than Softmax, as you can examine the coefficients of each individual binary classifier to understand the importance of features for each class.\n",
        "\n",
        "Consider Softmax when:\n",
        "\n",
        "1. Classes are mutually exclusive: If instances belong to only one class (e.g., classifying handwritten digits), Softmax is generally preferred. It provides a probability distribution over all classes, ensuring that the probabilities sum to 1.\n",
        "2. You need more accurate probability estimates: Softmax tends to produce better calibrated probability estimates than OvR, as it considers all classes simultaneously during training.\n",
        "3. Dataset is not too large: If your dataset is relatively small, the computational cost difference between OvR and Softmax might not be significant, and Softmax might be a better choice due to its potentially higher accuracy."
      ]
    },
    {
      "cell_type": "markdown",
      "metadata": {
        "id": "6RRNwxKkZ7dB"
      },
      "source": [
        "#Que-20 How do we interpret coefficients in Logistic Regression?\n",
        "#**Ans-20**\n",
        "\n",
        "In Logistic Regression, the coefficients represent the change in the log-odds of the outcome for a one-unit change in the predictor variable, holding all other variables constant. To understand this better, let's break it down:\n",
        "\n",
        "1. Log-odds: The log-odds is the natural logarithm of the odds of the event occurring. It's a way to express the likelihood of an event in a continuous scale.\n",
        "\n",
        "2. Odds: The odds of an event is the ratio of the probability of the event occurring to the probability of the event not occurring. For example, if the probability of an event is 0.6, the odds are 0.6 / (1 - 0.6) = 1.5.\n",
        "\n",
        "3. Coefficients: The coefficients in Logistic Regression represent the change in the log-odds of the outcome for a one-unit change in the predictor variable.\n",
        "\n"
      ]
    },
    {
      "cell_type": "markdown",
      "metadata": {
        "id": "vYJpReHuZ7je"
      },
      "source": [
        "\n",
        "\n",
        "\n",
        "---\n",
        "\n",
        "\n",
        "\n",
        "---\n",
        "\n",
        "\n",
        "#**Practical-Questions:**\n",
        "\n",
        "\n",
        "---\n",
        "\n",
        "\n",
        "\n",
        "---\n",
        "\n"
      ]
    },
    {
      "cell_type": "markdown",
      "metadata": {
        "id": "pr7h1nDDZ7o8"
      },
      "source": [
        "#Que-1 Write a Python program that loads a dataset, splits it into training and testing sets, applies Logistic Regression, and prints the model accuracy.\n",
        "#**Ans-1**"
      ]
    },
    {
      "cell_type": "code",
      "execution_count": 15,
      "metadata": {
        "colab": {
          "base_uri": "https://localhost:8080/"
        },
        "id": "x6gXXLuvd0z5",
        "outputId": "3073d124-80e3-4b8b-b8f3-310de76f5b75"
      },
      "outputs": [
        {
          "name": "stdout",
          "output_type": "stream",
          "text": [
            "model Accuracy: 1.0\n"
          ]
        }
      ],
      "source": [
        "import pandas as pd\n",
        "from sklearn.model_selection import train_test_split\n",
        "from sklearn.linear_model import LogisticRegression\n",
        "from sklearn.metrics import accuracy_score\n",
        "\n",
        "# loading dataset\n",
        "\n",
        "data = pd.read_csv('/content/demodata.csv')  # Replace with your dataset file\n",
        "\n",
        "# Separate features (X) and target (y)\n",
        "X = data.drop('target', axis=1)  # Replace 'target_variable' with the actual target column name\n",
        "y = data['target']\n",
        "\n",
        "# spliting the dataset into training and testing sets\n",
        "X_train, X_test, y_train, y_test = train_test_split(X, y, test_size=0.2, random_state=42)\n",
        "\n",
        "# Creating and train the Logistic Regression Model\n",
        "model = LogisticRegression()\n",
        "model.fit(X_train, y_train)\n",
        "\n",
        "# Making predictions on the testing set\n",
        "y_pred = model.predict(X_test)\n",
        "\n",
        "# Calculating and print the model accuracy\n",
        "accuracy = accuracy_score(y_test, y_pred)\n",
        "print(f\"model Accuracy: {accuracy}\")"
      ]
    },
    {
      "cell_type": "markdown",
      "metadata": {
        "id": "H-gmfpiEZ7vy"
      },
      "source": [
        "#Que-2 Write a Python program to apply L1 regularization (Lasso) on a dataset using LogisticRegression(penalty='l1') and print the model accuracy.\n",
        "#**Ans-2**\n",
        "\n"
      ]
    },
    {
      "cell_type": "code",
      "execution_count": 6,
      "metadata": {
        "colab": {
          "base_uri": "https://localhost:8080/"
        },
        "id": "J9tPHYFX2mfA",
        "outputId": "52569a1d-f21a-41bd-9a5f-28992eeee4e2"
      },
      "outputs": [
        {
          "name": "stdout",
          "output_type": "stream",
          "text": [
            "Model Accuracy with L1 Regularization: 0.81\n"
          ]
        }
      ],
      "source": [
        "import pandas as pd\n",
        "from sklearn.model_selection import train_test_split\n",
        "from sklearn.linear_model import LogisticRegression\n",
        "from sklearn.metrics import accuracy_score\n",
        "\n",
        "# Load the dataset\n",
        "np.random.seed(0)\n",
        "n_samples = 1000\n",
        "data = pd.DataFrame({\n",
        "    'customer_age': np.random.randint(20, 70, n_samples),\n",
        "    'monthly_bill': np.random.uniform(20, 150, n_samples),\n",
        "    'data_usage': np.random.uniform(0, 100, n_samples),\n",
        "    'contract_length': np.random.randint(1, 36, n_samples),\n",
        "    'online_support': np.random.randint(0, 2, n_samples)  # 0: No, 1: Yes\n",
        "})\n",
        "# Simulate churn based on some conditions (this is just example logic)\n",
        "data['churn'] = (data['monthly_bill'] > 100) | (data['contract_length'] < 6) | (data['data_usage'] > 80)\n",
        "data['churn'] = data['churn'].astype(int) # Convert True/False to 1/0\n",
        "\n",
        "\n",
        "# 2. Prepare data (features and target)\n",
        "X = data[['customer_age', 'monthly_bill', 'data_usage', 'contract_length', 'online_support']]\n",
        "y = data['churn']\n",
        "\n",
        "# Split the dataset into training and testing sets\n",
        "X_train, X_test, y_train, y_test = train_test_split(X, y, test_size=0.2, random_state=42)  # Adjust test_size and random_state as needed\n",
        "\n",
        "# Create and train the Logistic Regression model with L1 regularization\n",
        "model = LogisticRegression(penalty='l1', solver='liblinear')  # Use 'liblinear' solver for L1 penalty\n",
        "model.fit(X_train, y_train)\n",
        "\n",
        "# Make predictions on the testing set\n",
        "y_pred = model.predict(X_test)\n",
        "\n",
        "# Calculate and print the model accuracy\n",
        "accuracy = accuracy_score(y_test, y_pred)\n",
        "print(f\"Model Accuracy with L1 Regularization: {accuracy}\")"
      ]
    },
    {
      "cell_type": "markdown",
      "metadata": {
        "id": "iNz_S4E8Z72j"
      },
      "source": [
        "#Que-3 Write a Python program to train Logistic Regression with L2 regularization (Ridge) using LogisticRegression(penalty='l2'). Print model accuracy and coefficients.\n",
        "#**Ans-3**"
      ]
    },
    {
      "cell_type": "code",
      "execution_count": 16,
      "metadata": {
        "colab": {
          "base_uri": "https://localhost:8080/"
        },
        "id": "CQtskQiM2yQl",
        "outputId": "d66380dd-e327-444a-bd59-d3412e407d33"
      },
      "outputs": [
        {
          "name": "stdout",
          "output_type": "stream",
          "text": [
            "Model Accuracy with L2 Regularization: 1.0\n",
            "Model Coefficients:\n",
            "[[1.71630167 0.0587587  0.18573873 0.49706417]]\n"
          ]
        }
      ],
      "source": [
        "import pandas as pd\n",
        "from sklearn.model_selection import train_test_split\n",
        "from sklearn.linear_model import LogisticRegression\n",
        "from sklearn.metrics import accuracy_score\n",
        "\n",
        "# Load the dataset\n",
        "np.random.seed(0)\n",
        "data = pd.read_csv('/content/demodata.csv')  # Replace with your dataset file\n",
        "\n",
        "# Separate features (X) and target (y)\n",
        "X = data.drop('target', axis=1)  # Replace 'target_variable' with the actual target column name\n",
        "y = data['target']\n",
        "# Split the dataset into training and testing sets\n",
        "X_train, X_test, y_train, y_test = train_test_split(X, y, test_size=0.2, random_state=42)  # Adjust test_size and random_state as needed\n",
        "\n",
        "# Create and train the Logistic Regression model with L2 regularization\n",
        "model = LogisticRegression(penalty='l2')  # L2 regularization is the default\n",
        "model.fit(X_train, y_train)\n",
        "\n",
        "# Make predictions on the testing set\n",
        "y_pred = model.predict(X_test)\n",
        "\n",
        "# Calculate and print the model accuracy\n",
        "accuracy = accuracy_score(y_test, y_pred)\n",
        "print(f\"Model Accuracy with L2 Regularization: {accuracy}\")\n",
        "\n",
        "# Print the model coefficients\n",
        "print(\"Model Coefficients:\")\n",
        "print(model.coef_)"
      ]
    },
    {
      "cell_type": "markdown",
      "metadata": {
        "id": "7U2mS2t3Z7-p"
      },
      "source": [
        "#Que-4 Write a Python program to train Logistic Regression with Elastic Net Regularization (penalty='elasticnet').\n",
        "#**Ans-4**"
      ]
    },
    {
      "cell_type": "code",
      "execution_count": 17,
      "metadata": {
        "colab": {
          "base_uri": "https://localhost:8080/"
        },
        "id": "pgg4bhUf2_hc",
        "outputId": "bf18fca6-7e08-46cc-bc94-0d41107dc69d"
      },
      "outputs": [
        {
          "name": "stdout",
          "output_type": "stream",
          "text": [
            "Model Accuracy with Elastic Net Regularization: 1.0\n"
          ]
        },
        {
          "name": "stderr",
          "output_type": "stream",
          "text": [
            "/usr/local/lib/python3.11/dist-packages/sklearn/linear_model/_sag.py:348: ConvergenceWarning: The max_iter was reached which means the coef_ did not converge\n",
            "  warnings.warn(\n"
          ]
        }
      ],
      "source": [
        "import pandas as pd\n",
        "from sklearn.model_selection import train_test_split\n",
        "from sklearn.linear_model import LogisticRegression\n",
        "from sklearn.metrics import accuracy_score\n",
        "\n",
        "# Load the dataset\n",
        "data = pd.read_csv('/content/demodata.csv')  # Replace with your dataset file\n",
        "\n",
        "# Separate features (X) and target (y)\n",
        "X = data.drop('target', axis=1)  # Replace 'target_variable' with the actual target column name\n",
        "y = data['target']\n",
        "# Split the dataset into training and testing sets\n",
        "X_train, X_test, y_train, y_test = train_test_split(X, y, test_size=0.2, random_state=42)  # Adjust test_size and random_state as needed\n",
        "\n",
        "# Create and train the Logistic Regression model with Elastic Net regularization\n",
        "model = LogisticRegression(penalty='elasticnet', solver='saga', l1_ratio=0.5)  # Use 'saga' solver for elasticnet\n",
        "model.fit(X_train, y_train)\n",
        "\n",
        "# Make predictions on the testing set\n",
        "y_pred = model.predict(X_test)\n",
        "\n",
        "# Calculate and print the model accuracy\n",
        "accuracy = accuracy_score(y_test, y_pred)\n",
        "print(f\"Model Accuracy with Elastic Net Regularization: {accuracy}\")"
      ]
    },
    {
      "cell_type": "markdown",
      "metadata": {
        "id": "eE8JhZNOZ8GJ"
      },
      "source": [
        "#Que-5 Write a Python program to train a Logistic Regression model for multiclass classification using multi_class='ovr'.\n",
        "#**Ans-5**"
      ]
    },
    {
      "cell_type": "code",
      "execution_count": 41,
      "metadata": {
        "colab": {
          "base_uri": "https://localhost:8080/"
        },
        "id": "mDQj69q_3Jz8",
        "outputId": "d02f866e-abb1-4ae7-9bf0-79a3b9fc29c2"
      },
      "outputs": [
        {
          "name": "stdout",
          "output_type": "stream",
          "text": [
            "Model Accuracy (OvR): 0.31\n"
          ]
        },
        {
          "name": "stderr",
          "output_type": "stream",
          "text": [
            "/usr/local/lib/python3.11/dist-packages/sklearn/linear_model/_logistic.py:1256: FutureWarning: 'multi_class' was deprecated in version 1.5 and will be removed in 1.7. Use OneVsRestClassifier(LogisticRegression(..)) instead. Leave it to its default value to avoid this warning.\n",
            "  warnings.warn(\n"
          ]
        }
      ],
      "source": [
        "import pandas as pd\n",
        "import numpy as np\n",
        "from sklearn.model_selection import train_test_split\n",
        "from sklearn.linear_model import LogisticRegression\n",
        "from sklearn.metrics import accuracy_score\n",
        "\n",
        "\n",
        "n_samples = 1500  # Total number of samples\n",
        "n_features = 7    # Number of features\n",
        "n_classes = 3     # Number of classes for multiclass target variable\n",
        "# features (randomly generated for simplicity)\n",
        "np.random.seed(42) # for reproducibility\n",
        "features = np.random.randn(n_samples, n_features)\n",
        "feature_names = [f'feature_{i}' for i in range(n_features)]\n",
        "# Create multiclass target variable\n",
        "target = np.random.randint(0, n_classes, n_samples) # Randomly assign classes 0, 1, or 2\n",
        "# Pandas DataFrame\n",
        "df = pd.DataFrame(data=features, columns=feature_names)\n",
        "df['target'] = target.astype(int) # Ensure target is integer type\n",
        "df.to_csv('multiclass_dataset.csv', index=False)\n",
        "\n",
        "# Load the dataset (assuming it has a multiclass target variable)\n",
        "data = pd.read_csv('multiclass_dataset.csv')  # Replace with your dataset file\n",
        "\n",
        "# Separate features (X) and target (y)\n",
        "X = data.drop('target', axis=1)  # Replace 'target_variable' with the actual target column name\n",
        "y = data['target']\n",
        "\n",
        "# Split the dataset into training and testing sets\n",
        "X_train, X_test, y_train, y_test = train_test_split(X, y, test_size=0.2, random_state=42)\n",
        "\n",
        "# Create and train the Logistic Regression model with 'ovr' strategy\n",
        "model = LogisticRegression(multi_class='ovr')  # Use 'ovr' for One-vs-Rest strategy\n",
        "model.fit(X_train, y_train)\n",
        "\n",
        "# Make predictions on the testing set\n",
        "y_pred = model.predict(X_test)\n",
        "\n",
        "# Calculate and print the model accuracy\n",
        "accuracy = accuracy_score(y_test, y_pred)\n",
        "print(f\"Model Accuracy (OvR): {accuracy}\")"
      ]
    },
    {
      "cell_type": "markdown",
      "metadata": {
        "id": "7hEGvOmyZ8NC"
      },
      "source": [
        "#Que-6 Write a Python program to apply GridSearchCV to tune the hyperparameters (C and penalty) of Logistic Regression. Print the best parameters and accuracy.\n",
        "#**Ans-6**"
      ]
    },
    {
      "cell_type": "code",
      "execution_count": 18,
      "metadata": {
        "colab": {
          "base_uri": "https://localhost:8080/"
        },
        "id": "vGlTQS--3Szl",
        "outputId": "079b9d1b-ebbc-4850-9a69-d22fe3ce508c"
      },
      "outputs": [
        {
          "name": "stdout",
          "output_type": "stream",
          "text": [
            "Best Hyperparameters: {'C': 0.1, 'penalty': 'l2'}\n",
            "Best Accuracy: 1.0\n",
            "Test Accuracy: 1.0\n"
          ]
        },
        {
          "name": "stderr",
          "output_type": "stream",
          "text": [
            "/usr/local/lib/python3.11/dist-packages/sklearn/model_selection/_validation.py:528: FitFailedWarning: \n",
            "20 fits failed out of a total of 40.\n",
            "The score on these train-test partitions for these parameters will be set to nan.\n",
            "If these failures are not expected, you can try to debug them by setting error_score='raise'.\n",
            "\n",
            "Below are more details about the failures:\n",
            "--------------------------------------------------------------------------------\n",
            "20 fits failed with the following error:\n",
            "Traceback (most recent call last):\n",
            "  File \"/usr/local/lib/python3.11/dist-packages/sklearn/model_selection/_validation.py\", line 866, in _fit_and_score\n",
            "    estimator.fit(X_train, y_train, **fit_params)\n",
            "  File \"/usr/local/lib/python3.11/dist-packages/sklearn/base.py\", line 1389, in wrapper\n",
            "    return fit_method(estimator, *args, **kwargs)\n",
            "           ^^^^^^^^^^^^^^^^^^^^^^^^^^^^^^^^^^^^^^\n",
            "  File \"/usr/local/lib/python3.11/dist-packages/sklearn/linear_model/_logistic.py\", line 1193, in fit\n",
            "    solver = _check_solver(self.solver, self.penalty, self.dual)\n",
            "             ^^^^^^^^^^^^^^^^^^^^^^^^^^^^^^^^^^^^^^^^^^^^^^^^^^^\n",
            "  File \"/usr/local/lib/python3.11/dist-packages/sklearn/linear_model/_logistic.py\", line 63, in _check_solver\n",
            "    raise ValueError(\n",
            "ValueError: Solver lbfgs supports only 'l2' or None penalties, got l1 penalty.\n",
            "\n",
            "  warnings.warn(some_fits_failed_message, FitFailedWarning)\n",
            "/usr/local/lib/python3.11/dist-packages/sklearn/model_selection/_search.py:1108: UserWarning: One or more of the test scores are non-finite: [nan  1. nan  1. nan  1. nan  1.]\n",
            "  warnings.warn(\n"
          ]
        }
      ],
      "source": [
        "import pandas as pd\n",
        "from sklearn.model_selection import train_test_split, GridSearchCV\n",
        "from sklearn.linear_model import LogisticRegression\n",
        "from sklearn.metrics import accuracy_score\n",
        "\n",
        "# Load the dataset\n",
        "data = pd.read_csv('/content/demodata.csv')  # Replace with your dataset file\n",
        "\n",
        "# Separate features (X) and target (y)\n",
        "X = data.drop('target', axis=1)  # Replace 'target_variable' with the actual target column name\n",
        "y = data['target']\n",
        "# Split the dataset into training and testing sets\n",
        "X_train, X_test, y_train, y_test = train_test_split(X, y, test_size=0.2, random_state=42)\n",
        "\n",
        "# Define the hyperparameter grid\n",
        "param_grid = {\n",
        "    'C': [0.1, 1, 10, 100],  # Values for C\n",
        "    'penalty': ['l1', 'l2']  # Values for penalty\n",
        "}\n",
        "\n",
        "# Create a Logistic Regression model\n",
        "model = LogisticRegression()\n",
        "\n",
        "# Create GridSearchCV object\n",
        "grid_search = GridSearchCV(model, param_grid, cv=5, scoring='accuracy')  # cv=5 for 5-fold cross-validation\n",
        "\n",
        "# Fit the GridSearchCV object to the training data\n",
        "grid_search.fit(X_train, y_train)\n",
        "\n",
        "# Print the best hyperparameters\n",
        "print(\"Best Hyperparameters:\", grid_search.best_params_)\n",
        "\n",
        "# Print the best accuracy score\n",
        "print(\"Best Accuracy:\", grid_search.best_score_)\n",
        "\n",
        "# Evaluate the model with the best hyperparameters on the testing set\n",
        "best_model = grid_search.best_estimator_\n",
        "y_pred = best_model.predict(X_test)\n",
        "accuracy = accuracy_score(y_test, y_pred)\n",
        "print(\"Test Accuracy:\", accuracy)"
      ]
    },
    {
      "cell_type": "markdown",
      "metadata": {
        "id": "OsH6NjmwZ8Sq"
      },
      "source": [
        "#Que-7 Write a Python program to evaluate Logistic Regression using Stratified K-Fold Cross-Validation. Print the average accuracy.\n",
        "#**Ans-7**"
      ]
    },
    {
      "cell_type": "code",
      "execution_count": 10,
      "metadata": {
        "colab": {
          "base_uri": "https://localhost:8080/"
        },
        "id": "8HZjCmH13cRS",
        "outputId": "ba3208b8-626b-4975-bf76-36f34a484398"
      },
      "outputs": [
        {
          "name": "stdout",
          "output_type": "stream",
          "text": [
            "Average Accuracy: 0.8109999999999999\n"
          ]
        }
      ],
      "source": [
        "import pandas as pd\n",
        "from sklearn.model_selection import StratifiedKFold\n",
        "from sklearn.linear_model import LogisticRegression\n",
        "from sklearn.metrics import accuracy_score\n",
        "\n",
        "# Load the dataset\n",
        "np.random.seed(0)\n",
        "n_samples = 1000\n",
        "data = pd.DataFrame({\n",
        "    'customer_age': np.random.randint(20, 70, n_samples),\n",
        "    'monthly_bill': np.random.uniform(20, 150, n_samples),\n",
        "    'data_usage': np.random.uniform(0, 100, n_samples),\n",
        "    'contract_length': np.random.randint(1, 36, n_samples),\n",
        "    'online_support': np.random.randint(0, 2, n_samples)  # 0: No, 1: Yes\n",
        "})\n",
        "# Simulate churn based on some conditions (this is just example logic)\n",
        "data['churn'] = (data['monthly_bill'] > 100) | (data['contract_length'] < 6) | (data['data_usage'] > 80)\n",
        "data['churn'] = data['churn'].astype(int) # Convert True/False to 1/0\n",
        "\n",
        "\n",
        "# 2. Prepare data (features and target)\n",
        "X = data[['customer_age', 'monthly_bill', 'data_usage', 'contract_length', 'online_support']]\n",
        "y = data['churn']\n",
        "\n",
        "# Create StratifiedKFold object\n",
        "skf = StratifiedKFold(n_splits=5, random_state=42, shuffle=True)  # Adjust n_splits and random_state as needed\n",
        "\n",
        "# Initialize lists to store accuracy scores for each fold\n",
        "accuracy_scores = []\n",
        "\n",
        "# Iterate over the folds\n",
        "for train_index, test_index in skf.split(X, y):\n",
        "    X_train, X_test = X.iloc[train_index], X.iloc[test_index]\n",
        "    y_train, y_test = y.iloc[train_index], y.iloc[test_index]\n",
        "\n",
        "    # Create and train the Logistic Regression model\n",
        "    model = LogisticRegression()\n",
        "    model.fit(X_train, y_train)\n",
        "\n",
        "    # Make predictions on the testing set\n",
        "    y_pred = model.predict(X_test)\n",
        "\n",
        "    # Calculate accuracy and append to the list\n",
        "    accuracy = accuracy_score(y_test, y_pred)\n",
        "    accuracy_scores.append(accuracy)\n",
        "\n",
        "# Calculate and print the average accuracy\n",
        "average_accuracy = sum(accuracy_scores) / len(accuracy_scores)\n",
        "print(f\"Average Accuracy: {average_accuracy}\")"
      ]
    },
    {
      "cell_type": "markdown",
      "metadata": {
        "id": "cTf7JC9QZ8Y6"
      },
      "source": [
        "#Que-8 Write a Python program to load a dataset from a CSV file, apply Logistic Regression, and evaluate its accuracy.\n",
        "#**Ans-8**"
      ]
    },
    {
      "cell_type": "code",
      "execution_count": 11,
      "metadata": {
        "colab": {
          "base_uri": "https://localhost:8080/"
        },
        "id": "7tArQBnv3nDc",
        "outputId": "a9d7bede-5bb3-4c16-8b08-4dd2ad225ca5"
      },
      "outputs": [
        {
          "name": "stdout",
          "output_type": "stream",
          "text": [
            "Model Accuracy: 0.81\n"
          ]
        }
      ],
      "source": [
        "import pandas as pd\n",
        "from sklearn.model_selection import train_test_split\n",
        "from sklearn.linear_model import LogisticRegression\n",
        "from sklearn.metrics import accuracy_score\n",
        "\n",
        "# Load the dataset\n",
        "np.random.seed(0)\n",
        "n_samples = 1000\n",
        "data = pd.DataFrame({\n",
        "    'customer_age': np.random.randint(20, 70, n_samples),\n",
        "    'monthly_bill': np.random.uniform(20, 150, n_samples),\n",
        "    'data_usage': np.random.uniform(0, 100, n_samples),\n",
        "    'contract_length': np.random.randint(1, 36, n_samples),\n",
        "    'online_support': np.random.randint(0, 2, n_samples)  # 0: No, 1: Yes\n",
        "})\n",
        "# Simulate churn based on some conditions (this is just example logic)\n",
        "data['churn'] = (data['monthly_bill'] > 100) | (data['contract_length'] < 6) | (data['data_usage'] > 80)\n",
        "data['churn'] = data['churn'].astype(int) # Convert True/False to 1/0\n",
        "\n",
        "\n",
        "# 2. Prepare data (features and target)\n",
        "X = data[['customer_age', 'monthly_bill', 'data_usage', 'contract_length', 'online_support']]\n",
        "y = data['churn']\n",
        "# Split the dataset into training and testing sets\n",
        "X_train, X_test, y_train, y_test = train_test_split(X, y, test_size=0.2, random_state=42)  # Adjust test_size and random_state as needed\n",
        "\n",
        "# Create and train the Logistic Regression model\n",
        "model = LogisticRegression()\n",
        "model.fit(X_train, y_train)\n",
        "\n",
        "# Make predictions on the testing set\n",
        "y_pred = model.predict(X_test)\n",
        "\n",
        "# Calculate and print the model accuracy\n",
        "accuracy = accuracy_score(y_test, y_pred)\n",
        "print(f\"Model Accuracy: {accuracy}\")"
      ]
    },
    {
      "cell_type": "markdown",
      "metadata": {
        "id": "Gu--_L1bZ8fa"
      },
      "source": [
        "#Que-9 Write a Python program to apply RandomizedSearchCV for tuning hyperparameters (C, penalty, solver) in Logistic Regression. Print the best parameters and accuracy.\n",
        "#**Ans-9**"
      ]
    },
    {
      "cell_type": "code",
      "execution_count": 19,
      "metadata": {
        "colab": {
          "base_uri": "https://localhost:8080/"
        },
        "id": "7PaD1oOs3zIK",
        "outputId": "d7633198-e8ed-4bc9-cca5-f40aebd06581"
      },
      "outputs": [
        {
          "name": "stdout",
          "output_type": "stream",
          "text": [
            "Best Hyperparameters: {'solver': 'liblinear', 'penalty': 'l2', 'C': 1438.44988828766}\n",
            "Best Accuracy: 1.0\n",
            "Test Accuracy: 1.0\n"
          ]
        },
        {
          "name": "stderr",
          "output_type": "stream",
          "text": [
            "/usr/local/lib/python3.11/dist-packages/sklearn/linear_model/_sag.py:348: ConvergenceWarning: The max_iter was reached which means the coef_ did not converge\n",
            "  warnings.warn(\n",
            "/usr/local/lib/python3.11/dist-packages/sklearn/linear_model/_sag.py:348: ConvergenceWarning: The max_iter was reached which means the coef_ did not converge\n",
            "  warnings.warn(\n",
            "/usr/local/lib/python3.11/dist-packages/sklearn/linear_model/_sag.py:348: ConvergenceWarning: The max_iter was reached which means the coef_ did not converge\n",
            "  warnings.warn(\n",
            "/usr/local/lib/python3.11/dist-packages/sklearn/linear_model/_sag.py:348: ConvergenceWarning: The max_iter was reached which means the coef_ did not converge\n",
            "  warnings.warn(\n",
            "/usr/local/lib/python3.11/dist-packages/sklearn/linear_model/_sag.py:348: ConvergenceWarning: The max_iter was reached which means the coef_ did not converge\n",
            "  warnings.warn(\n"
          ]
        }
      ],
      "source": [
        "import pandas as pd\n",
        "from sklearn.model_selection import train_test_split, RandomizedSearchCV\n",
        "from sklearn.linear_model import LogisticRegression\n",
        "from sklearn.metrics import accuracy_score\n",
        "import numpy as np\n",
        "\n",
        "# Load the dataset\n",
        "data = pd.read_csv('/content/demodata.csv')  # Replace with your dataset file\n",
        "\n",
        "# Separate features (X) and target (y)\n",
        "X = data.drop('target', axis=1)  # Replace 'target_variable' with the actual target column name\n",
        "y = data['target']\n",
        "# Split the dataset into training and testing sets\n",
        "X_train, X_test, y_train, y_test = train_test_split(X, y, test_size=0.2, random_state=42)\n",
        "\n",
        "# Define the hyperparameter distribution\n",
        "param_dist = {\n",
        "    'C': np.logspace(-4, 4, 20),  # Values for C (logarithmic scale)\n",
        "    'penalty': ['l1', 'l2'],  # Values for penalty\n",
        "    'solver': ['liblinear', 'saga']  # Values for solver (compatible with both penalties)\n",
        "}\n",
        "\n",
        "# Create a Logistic Regression model\n",
        "model = LogisticRegression()\n",
        "\n",
        "# Create RandomizedSearchCV object\n",
        "random_search = RandomizedSearchCV(model, param_distributions=param_dist, n_iter=10, cv=5, scoring='accuracy', random_state=42)\n",
        "\n",
        "# Fit the RandomizedSearchCV object to the training data\n",
        "random_search.fit(X_train, y_train)\n",
        "\n",
        "# Print the best hyperparameters\n",
        "print(\"Best Hyperparameters:\", random_search.best_params_)\n",
        "\n",
        "# Print the best accuracy score\n",
        "print(\"Best Accuracy:\", random_search.best_score_)\n",
        "\n",
        "# Evaluate the model with the best hyperparameters on the testing set\n",
        "best_model = random_search.best_estimator_\n",
        "y_pred = best_model.predict(X_test)\n",
        "accuracy = accuracy_score(y_test, y_pred)\n",
        "print(\"Test Accuracy:\", accuracy)"
      ]
    },
    {
      "cell_type": "markdown",
      "metadata": {
        "id": "emoRWrAWZ8lk"
      },
      "source": [
        "#Que-10 Write a Python program to implement One-vs-One (OvO) Multiclass Logistic Regression and print accuracy.\n",
        "#**Ans-10**"
      ]
    },
    {
      "cell_type": "code",
      "execution_count": 40,
      "metadata": {
        "colab": {
          "base_uri": "https://localhost:8080/"
        },
        "id": "33bSHaUW37nA",
        "outputId": "8d4930e2-3b0b-4813-e45c-bdf469a80a0c"
      },
      "outputs": [
        {
          "name": "stdout",
          "output_type": "stream",
          "text": [
            "One-vs-One (OvO) Accuracy: 0.31333333333333335\n"
          ]
        }
      ],
      "source": [
        "import pandas as pd\n",
        "from sklearn.model_selection import train_test_split\n",
        "from sklearn.linear_model import LogisticRegression\n",
        "from sklearn.multiclass import OneVsOneClassifier\n",
        "from sklearn.metrics import accuracy_score\n",
        "import numpy as np\n",
        "\n",
        "\n",
        "\n",
        "\n",
        "n_samples = 1500  # Total number of samples\n",
        "n_features = 7    # Number of features\n",
        "n_classes = 3     # Number of classes for multiclass target variable\n",
        "# features (randomly generated for simplicity)\n",
        "np.random.seed(42) # for reproducibility\n",
        "features = np.random.randn(n_samples, n_features)\n",
        "feature_names = [f'feature_{i}' for i in range(n_features)]\n",
        "# Create multiclass target variable\n",
        "target = np.random.randint(0, n_classes, n_samples) # Randomly assign classes 0, 1, or 2\n",
        "# Pandas DataFrame\n",
        "df = pd.DataFrame(data=features, columns=feature_names)\n",
        "df['target'] = target.astype(int) # Ensure target is integer type\n",
        "df.to_csv('multiclass_dataset.csv', index=False)\n",
        "\n",
        "\n",
        "# Load the dataset (assuming it has a multiclass target variable)\n",
        "data = pd.read_csv('multiclass_dataset.csv')  # Replace with your dataset file\n",
        "\n",
        "# Separate features (X) and target (y)\n",
        "X = data.drop('target', axis=1)  # Replace 'target_variable' with the actual target column name\n",
        "y = data['target']\n",
        "\n",
        "# Split the dataset into training and testing sets\n",
        "X_train, X_test, y_train, y_test = train_test_split(X, y, test_size=0.2, random_state=42)\n",
        "\n",
        "# Create a base Logistic Regression model\n",
        "base_model = LogisticRegression()\n",
        "\n",
        "# Create OneVsOneClassifier with the base model\n",
        "ovo_model = OneVsOneClassifier(base_model)\n",
        "\n",
        "# Train the OvO model\n",
        "ovo_model.fit(X_train, y_train)\n",
        "\n",
        "# Make predictions on the testing set\n",
        "y_pred = ovo_model.predict(X_test)\n",
        "\n",
        "# Calculate and print the accuracy\n",
        "accuracy = accuracy_score(y_test, y_pred)\n",
        "print(f\"One-vs-One (OvO) Accuracy: {accuracy}\")"
      ]
    },
    {
      "cell_type": "markdown",
      "metadata": {
        "id": "BjdGYfbgZ8rj"
      },
      "source": [
        "#Que-11 Write a Python program to train a Logistic Regression model and visualize the confusion matrix for binary classification.\n",
        "#**Ans-11**"
      ]
    },
    {
      "cell_type": "code",
      "execution_count": 14,
      "metadata": {
        "colab": {
          "base_uri": "https://localhost:8080/",
          "height": 581
        },
        "id": "ZEwAdITa4CaJ",
        "outputId": "7ca02bfa-dc8b-41ae-f5be-86c6c219e1df"
      },
      "outputs": [
        {
          "name": "stdout",
          "output_type": "stream",
          "text": [
            "Accuracy: 1.0\n"
          ]
        },
        {
          "data": {
            "image/png": "[encoded data removed]",
            "text/plain": [
              "<Figure size 800x600 with 2 Axes>"
            ]
          },
          "metadata": {},
          "output_type": "display_data"
        }
      ],
      "source": [
        "import pandas as pd\n",
        "from sklearn.model_selection import train_test_split\n",
        "from sklearn.linear_model import LogisticRegression\n",
        "from sklearn.metrics import confusion_matrix, accuracy_score\n",
        "import seaborn as sns\n",
        "import matplotlib.pyplot as plt\n",
        "\n",
        "# Load the dataset (assuming it has a binary target variable)\n",
        "data = pd.read_csv('/content/demodata.csv')  # Replace with your dataset file\n",
        "\n",
        "# Separate features (X) and target (y)\n",
        "X = data.drop('target', axis=1)  # Replace 'target_variable' with the actual target column name\n",
        "y = data['target']\n",
        "\n",
        "# Split the dataset into training and testing sets\n",
        "X_train, X_test, y_train, y_test = train_test_split(X, y, test_size=0.2, random_state=42)\n",
        "\n",
        "# Create and train the Logistic Regression model\n",
        "model = LogisticRegression()\n",
        "model.fit(X_train, y_train)\n",
        "\n",
        "# Make predictions on the testing set\n",
        "y_pred = model.predict(X_test)\n",
        "\n",
        "# Calculate accuracy\n",
        "accuracy = accuracy_score(y_test, y_pred)\n",
        "print(f\"Accuracy: {accuracy}\")\n",
        "\n",
        "# Create confusion matrix\n",
        "cm = confusion_matrix(y_test, y_pred)\n",
        "\n",
        "# Visualize confusion matrix using seaborn heatmap\n",
        "plt.figure(figsize=(8, 6))\n",
        "sns.heatmap(cm, annot=True, fmt=\"d\", cmap=\"Blues\",\n",
        "            xticklabels=['Class 0', 'Class 1'],\n",
        "            yticklabels=['Class 0', 'Class 1'])\n",
        "plt.title(\"Confusion Matrix\")\n",
        "plt.xlabel(\"Predicted Label\")\n",
        "plt.ylabel(\"True Label\")\n",
        "plt.show()"
      ]
    },
    {
      "cell_type": "markdown",
      "metadata": {
        "id": "mZtnX_YzZ8x5"
      },
      "source": [
        "#Que-12 Write a Python program to train a Logistic Regression model and evaluate its performance using Precision, Recall, and F1-Score.\n",
        "#**Ans-12**"
      ]
    },
    {
      "cell_type": "code",
      "execution_count": 21,
      "metadata": {
        "colab": {
          "base_uri": "https://localhost:8080/"
        },
        "id": "gxwsoCQm4U1w",
        "outputId": "2af5a373-55b2-41bb-95b7-e88c73227423"
      },
      "outputs": [
        {
          "name": "stdout",
          "output_type": "stream",
          "text": [
            "Precision: 0.8771929824561403\n",
            "Recall: 0.8064516129032258\n",
            "F1-Score: 0.8403361344537815\n",
            "Accuracy: 0.81\n"
          ]
        }
      ],
      "source": [
        "import pandas as pd\n",
        "from sklearn.model_selection import train_test_split\n",
        "from sklearn.linear_model import LogisticRegression\n",
        "from sklearn.metrics import precision_score, recall_score, f1_score, accuracy_score\n",
        "\n",
        "# Load the dataset\n",
        "np.random.seed(0)\n",
        "n_samples = 1000\n",
        "data = pd.DataFrame({\n",
        "    'customer_age': np.random.randint(20, 70, n_samples),\n",
        "    'monthly_bill': np.random.uniform(20, 150, n_samples),\n",
        "    'data_usage': np.random.uniform(0, 100, n_samples),\n",
        "    'contract_length': np.random.randint(1, 36, n_samples),\n",
        "    'online_support': np.random.randint(0, 2, n_samples)  # 0: No, 1: Yes\n",
        "})\n",
        "# Simulate churn based on some conditions (this is just example logic)\n",
        "data['churn'] = (data['monthly_bill'] > 100) | (data['contract_length'] < 6) | (data['data_usage'] > 80)\n",
        "data['churn'] = data['churn'].astype(int) # Convert True/False to 1/0\n",
        "\n",
        "\n",
        "# 2. Prepare data (features and target)\n",
        "X = data[['customer_age', 'monthly_bill', 'data_usage', 'contract_length', 'online_support']]\n",
        "y = data['churn']\n",
        "# Split the dataset into training and testing sets\n",
        "X_train, X_test, y_train, y_test = train_test_split(X, y, test_size=0.2, random_state=42)\n",
        "\n",
        "# Create and train the Logistic Regression model\n",
        "model = LogisticRegression()\n",
        "model.fit(X_train, y_train)\n",
        "\n",
        "# Make predictions on the testing set\n",
        "y_pred = model.predict(X_test)\n",
        "\n",
        "# Calculate Precision, Recall, and F1-Score\n",
        "precision = precision_score(y_test, y_pred)\n",
        "recall = recall_score(y_test, y_pred)\n",
        "f1 = f1_score(y_test, y_pred)\n",
        "accuracy = accuracy_score(y_test, y_pred)\n",
        "\n",
        "\n",
        "# Print the evaluation metrics\n",
        "print(f\"Precision: {precision}\")\n",
        "print(f\"Recall: {recall}\")\n",
        "print(f\"F1-Score: {f1}\")\n",
        "print(f\"Accuracy: {accuracy}\")"
      ]
    },
    {
      "cell_type": "markdown",
      "metadata": {
        "id": "NsRfLyAjZ84i"
      },
      "source": [
        "#Que-13 Write a Python program to train a Logistic Regression model on imbalanced data and apply class weights to improve model performance.\n",
        "#**Ans-13**"
      ]
    },
    {
      "cell_type": "code",
      "execution_count": 37,
      "metadata": {
        "colab": {
          "base_uri": "https://localhost:8080/"
        },
        "id": "m3ZGQjd94jJh",
        "outputId": "37363987-4916-49fc-be3e-494dce6ee513"
      },
      "outputs": [
        {
          "name": "stdout",
          "output_type": "stream",
          "text": [
            "Accuracy: 0.585\n",
            "Precision: 0.15853658536585366\n",
            "Recall: 0.48148148148148145\n",
            "F1-Score: 0.23853211009174313\n"
          ]
        }
      ],
      "source": [
        "import pandas as pd\n",
        "from sklearn.model_selection import train_test_split\n",
        "from sklearn.linear_model import LogisticRegression\n",
        "from sklearn.metrics import accuracy_score, precision_score, recall_score, f1_score\n",
        "import numpy as np\n",
        "\n",
        "# 1. Set dataset parameters\n",
        "n_samples = 1000  # Total number of samples\n",
        "n_features = 5    # Number of features\n",
        "imbalance_ratio = 0.9 # Ratio of majority class (0) to minority class (1). 0.9 means 90% class 0, 10% class 1\n",
        "\n",
        "# 2. Create features (randomly generated for simplicity)\n",
        "np.random.seed(42) # for reproducibility\n",
        "features = np.random.randn(n_samples, n_features)\n",
        "feature_names = [f'feature_{i}' for i in range(n_features)]\n",
        "\n",
        "# 3. Create imbalanced target variable\n",
        "n_minority_class = int(n_samples * (1 - imbalance_ratio))\n",
        "n_majority_class = n_samples - n_minority_class\n",
        "\n",
        "target = np.concatenate([np.zeros(n_majority_class), np.ones(n_minority_class)])\n",
        "np.random.shuffle(target) # shuffle to mix classes\n",
        "\n",
        "# 4. Create Pandas DataFrame\n",
        "df = pd.DataFrame(data=features, columns=feature_names)\n",
        "df['target'] = target.astype(int) # Ensure target is integer type\n",
        "df.to_csv('imbalanced_dataset.csv', index=False)\n",
        "\n",
        "\n",
        "\n",
        "\n",
        "\n",
        "\n",
        "# Load the imbalanced dataset\n",
        "data = pd.read_csv('imbalanced_dataset.csv')  # Replace with your dataset file\n",
        "\n",
        "# Separate features (X) and target (y)\n",
        "X = data.drop('target', axis=1)  # Replace 'target_variable' with the actual target column name\n",
        "y = data['target']\n",
        "\n",
        "# Split the dataset into training and testing sets\n",
        "X_train, X_test, y_train, y_test = train_test_split(X, y, test_size=0.2, random_state=42)\n",
        "\n",
        "# Create and train the Logistic Regression model with class weights\n",
        "model = LogisticRegression(class_weight='balanced')  # Apply class weights\n",
        "model.fit(X_train, y_train)\n",
        "\n",
        "# Make predictions on the testing set\n",
        "y_pred = model.predict(X_test)\n",
        "\n",
        "# Calculate evaluation metrics\n",
        "accuracy = accuracy_score(y_test, y_pred)\n",
        "precision = precision_score(y_test, y_pred)\n",
        "recall = recall_score(y_test, y_pred)\n",
        "f1 = f1_score(y_test, y_pred)\n",
        "\n",
        "# Print the evaluation metrics\n",
        "print(f\"Accuracy: {accuracy}\")\n",
        "print(f\"Precision: {precision}\")\n",
        "print(f\"Recall: {recall}\")\n",
        "print(f\"F1-Score: {f1}\")"
      ]
    },
    {
      "cell_type": "markdown",
      "metadata": {
        "id": "A-bZubqqZ8_D"
      },
      "source": [
        "#Que-14 Write a Python program to train Logistic Regression on the Titanic dataset, handle missing values, and evaluate performance.\n",
        "#**Ans-14**"
      ]
    },
    {
      "cell_type": "code",
      "execution_count": 24,
      "metadata": {
        "colab": {
          "base_uri": "https://localhost:8080/"
        },
        "id": "yFeiLot34v0P",
        "outputId": "7b7eb81a-3c14-4f9b-8dc2-b28d6bc1c439"
      },
      "outputs": [
        {
          "name": "stdout",
          "output_type": "stream",
          "text": [
            "Accuracy: 0.8100558659217877\n",
            "Precision: 0.803030303030303\n",
            "Recall: 0.7162162162162162\n",
            "F1-Score: 0.7571428571428571\n"
          ]
        }
      ],
      "source": [
        "import pandas as pd\n",
        "from sklearn.model_selection import train_test_split\n",
        "from sklearn.linear_model import LogisticRegression\n",
        "from sklearn.metrics import accuracy_score, precision_score, recall_score, f1_score\n",
        "from sklearn.impute import SimpleImputer\n",
        "\n",
        "# Load the Titanic dataset\n",
        "data = pd.read_csv('/content/Titanic-Dataset.csv')  # Replace 'titanic.csv' with the actual file path\n",
        "\n",
        "# Select relevant features and target variable\n",
        "features = ['Pclass', 'Sex', 'Age', 'SibSp', 'Parch', 'Fare']\n",
        "target = 'Survived'\n",
        "data = data[[target] + features]\n",
        "\n",
        "# Convert categorical features to numerical using one-hot encoding\n",
        "data = pd.get_dummies(data, columns=['Sex'], drop_first=True)\n",
        "\n",
        "# Handle missing values using imputation\n",
        "imputer = SimpleImputer(strategy='mean')  # Replace with other strategies if needed\n",
        "data[['Age']] = imputer.fit_transform(data[['Age']])\n",
        "\n",
        "# Separate features (X) and target (y)\n",
        "X = data.drop(columns=[target])\n",
        "y = data[target]\n",
        "\n",
        "# Split the dataset into training and testing sets\n",
        "X_train, X_test, y_train, y_test = train_test_split(X, y, test_size=0.2, random_state=42)\n",
        "\n",
        "# Create and train the Logistic Regression model\n",
        "model = LogisticRegression()\n",
        "model.fit(X_train, y_train)\n",
        "\n",
        "# Make predictions on the testing set\n",
        "y_pred = model.predict(X_test)\n",
        "\n",
        "# Evaluate performance\n",
        "accuracy = accuracy_score(y_test, y_pred)\n",
        "precision = precision_score(y_test, y_pred)\n",
        "recall = recall_score(y_test, y_pred)\n",
        "f1 = f1_score(y_test, y_pred)\n",
        "\n",
        "# Print the evaluation metrics\n",
        "print(f\"Accuracy: {accuracy}\")\n",
        "print(f\"Precision: {precision}\")\n",
        "print(f\"Recall: {recall}\")\n",
        "print(f\"F1-Score: {f1}\")"
      ]
    },
    {
      "cell_type": "markdown",
      "metadata": {
        "id": "gddxS9PNZ9Fh"
      },
      "source": [
        "#Que-15 Write a Python program to apply feature scaling (Standardization) before training a Logistic Regression model. Evaluate its accuracy and compare results with and without scaling.\n",
        "#**Ans-15**"
      ]
    },
    {
      "cell_type": "code",
      "execution_count": 25,
      "metadata": {
        "colab": {
          "base_uri": "https://localhost:8080/"
        },
        "id": "hk1PASme45rG",
        "outputId": "480f24fd-7f66-40b5-dd79-1733c4cb036a"
      },
      "outputs": [
        {
          "name": "stdout",
          "output_type": "stream",
          "text": [
            "Accuracy without scaling: 0.81\n",
            "Accuracy with scaling: 0.81\n",
            "Difference in accuracy: 0.0\n"
          ]
        }
      ],
      "source": [
        "import pandas as pd\n",
        "from sklearn.model_selection import train_test_split\n",
        "from sklearn.preprocessing import StandardScaler\n",
        "from sklearn.linear_model import LogisticRegression\n",
        "from sklearn.metrics import accuracy_score\n",
        "\n",
        "# Load the dataset\n",
        "np.random.seed(0)\n",
        "n_samples = 1000\n",
        "data = pd.DataFrame({\n",
        "    'customer_age': np.random.randint(20, 70, n_samples),\n",
        "    'monthly_bill': np.random.uniform(20, 150, n_samples),\n",
        "    'data_usage': np.random.uniform(0, 100, n_samples),\n",
        "    'contract_length': np.random.randint(1, 36, n_samples),\n",
        "    'online_support': np.random.randint(0, 2, n_samples)  # 0: No, 1: Yes\n",
        "})\n",
        "# Simulate churn based on some conditions (this is just example logic)\n",
        "data['churn'] = (data['monthly_bill'] > 100) | (data['contract_length'] < 6) | (data['data_usage'] > 80)\n",
        "data['churn'] = data['churn'].astype(int) # Convert True/False to 1/0\n",
        "\n",
        "\n",
        "# 2. Prepare data (features and target)\n",
        "X = data[['customer_age', 'monthly_bill', 'data_usage', 'contract_length', 'online_support']]\n",
        "y = data['churn']\n",
        "\n",
        "# Split the dataset into training and testing sets\n",
        "X_train, X_test, y_train, y_test = train_test_split(X, y, test_size=0.2, random_state=42)\n",
        "\n",
        "# Train and evaluate without scaling\n",
        "model_no_scaling = LogisticRegression()\n",
        "model_no_scaling.fit(X_train, y_train)\n",
        "y_pred_no_scaling = model_no_scaling.predict(X_test)\n",
        "accuracy_no_scaling = accuracy_score(y_test, y_pred_no_scaling)\n",
        "print(f\"Accuracy without scaling: {accuracy_no_scaling}\")\n",
        "\n",
        "# Apply feature scaling (Standardization)\n",
        "scaler = StandardScaler()\n",
        "X_train_scaled = scaler.fit_transform(X_train)\n",
        "X_test_scaled = scaler.transform(X_test)\n",
        "\n",
        "# Train and evaluate with scaling\n",
        "model_scaling = LogisticRegression()\n",
        "model_scaling.fit(X_train_scaled, y_train)\n",
        "y_pred_scaling = model_scaling.predict(X_test_scaled)\n",
        "accuracy_scaling = accuracy_score(y_test, y_pred_scaling)\n",
        "print(f\"Accuracy with scaling: {accuracy_scaling}\")\n",
        "\n",
        "# Compare results\n",
        "print(f\"Difference in accuracy: {accuracy_scaling - accuracy_no_scaling}\")"
      ]
    },
    {
      "cell_type": "markdown",
      "metadata": {
        "id": "I1HR-fXAZ9Mc"
      },
      "source": [
        "#Que-16 Write a Python program to train Logistic Regression and evaluate its performance using ROC-AUC score.\n",
        "#**Ans-16**"
      ]
    },
    {
      "cell_type": "code",
      "execution_count": 26,
      "metadata": {
        "colab": {
          "base_uri": "https://localhost:8080/"
        },
        "id": "k0wjvdp75DuO",
        "outputId": "dbc78158-39db-410b-fec8-c25d488f348b"
      },
      "outputs": [
        {
          "name": "stdout",
          "output_type": "stream",
          "text": [
            "ROC-AUC Score: 0.8771222410865874\n"
          ]
        }
      ],
      "source": [
        "import pandas as pd\n",
        "from sklearn.model_selection import train_test_split\n",
        "from sklearn.linear_model import LogisticRegression\n",
        "from sklearn.metrics import roc_auc_score\n",
        "\n",
        "# Load the dataset\n",
        "np.random.seed(0)\n",
        "n_samples = 1000\n",
        "data = pd.DataFrame({\n",
        "    'customer_age': np.random.randint(20, 70, n_samples),\n",
        "    'monthly_bill': np.random.uniform(20, 150, n_samples),\n",
        "    'data_usage': np.random.uniform(0, 100, n_samples),\n",
        "    'contract_length': np.random.randint(1, 36, n_samples),\n",
        "    'online_support': np.random.randint(0, 2, n_samples)  # 0: No, 1: Yes\n",
        "})\n",
        "# Simulate churn based on some conditions (this is just example logic)\n",
        "data['churn'] = (data['monthly_bill'] > 100) | (data['contract_length'] < 6) | (data['data_usage'] > 80)\n",
        "data['churn'] = data['churn'].astype(int) # Convert True/False to 1/0\n",
        "\n",
        "\n",
        "# 2. Prepare data (features and target)\n",
        "X = data[['customer_age', 'monthly_bill', 'data_usage', 'contract_length', 'online_support']]\n",
        "y = data['churn']\n",
        "\n",
        "# Split the dataset into training and testing sets\n",
        "X_train, X_test, y_train, y_test = train_test_split(X, y, test_size=0.2, random_state=42)\n",
        "\n",
        "# Create and train the Logistic Regression model\n",
        "model = LogisticRegression()\n",
        "model.fit(X_train, y_train)\n",
        "\n",
        "# Predict probabilities on the testing set\n",
        "y_probs = model.predict_proba(X_test)[:, 1]  # Get probabilities for the positive class\n",
        "\n",
        "# Calculate ROC-AUC score\n",
        "roc_auc = roc_auc_score(y_test, y_probs)\n",
        "\n",
        "# Print the ROC-AUC score\n",
        "print(f\"ROC-AUC Score: {roc_auc}\")"
      ]
    },
    {
      "cell_type": "markdown",
      "metadata": {
        "id": "TbXGlKpIZ9f5"
      },
      "source": [
        "#Que-17 Write a Python program to train Logistic Regression using a custom learning rate (C=0.5) and evaluate accuracy.\n",
        "#**Ans-17**"
      ]
    },
    {
      "cell_type": "code",
      "execution_count": 27,
      "metadata": {
        "colab": {
          "base_uri": "https://localhost:8080/"
        },
        "id": "XUW-FwYs5M6_",
        "outputId": "baf708f9-6fa3-4459-fbdd-c5abbb2f79bf"
      },
      "outputs": [
        {
          "name": "stdout",
          "output_type": "stream",
          "text": [
            "Accuracy with custom learning rate (C=0.5): 0.81\n"
          ]
        }
      ],
      "source": [
        "import pandas as pd\n",
        "from sklearn.model_selection import train_test_split\n",
        "from sklearn.linear_model import LogisticRegression\n",
        "from sklearn.metrics import accuracy_score\n",
        "\n",
        "# Load the dataset\n",
        "np.random.seed(0)\n",
        "n_samples = 1000\n",
        "data = pd.DataFrame({\n",
        "    'customer_age': np.random.randint(20, 70, n_samples),\n",
        "    'monthly_bill': np.random.uniform(20, 150, n_samples),\n",
        "    'data_usage': np.random.uniform(0, 100, n_samples),\n",
        "    'contract_length': np.random.randint(1, 36, n_samples),\n",
        "    'online_support': np.random.randint(0, 2, n_samples)  # 0: No, 1: Yes\n",
        "})\n",
        "# Simulate churn based on some conditions (this is just example logic)\n",
        "data['churn'] = (data['monthly_bill'] > 100) | (data['contract_length'] < 6) | (data['data_usage'] > 80)\n",
        "data['churn'] = data['churn'].astype(int) # Convert True/False to 1/0\n",
        "\n",
        "\n",
        "# 2. Prepare data (features and target)\n",
        "X = data[['customer_age', 'monthly_bill', 'data_usage', 'contract_length', 'online_support']]\n",
        "y = data['churn']\n",
        "\n",
        "# Split the dataset into training and testing sets\n",
        "X_train, X_test, y_train, y_test = train_test_split(X, y, test_size=0.2, random_state=42)\n",
        "\n",
        "# Create and train the Logistic Regression model with custom learning rate (C)\n",
        "model = LogisticRegression(C=0.5)  # Set C to 0.5 for the custom learning rate\n",
        "model.fit(X_train, y_train)\n",
        "\n",
        "# Make predictions on the testing set\n",
        "y_pred = model.predict(X_test)\n",
        "\n",
        "# Calculate accuracy\n",
        "accuracy = accuracy_score(y_test, y_pred)\n",
        "\n",
        "# Print the accuracy\n",
        "print(f\"Accuracy with custom learning rate (C=0.5): {accuracy}\")"
      ]
    },
    {
      "cell_type": "markdown",
      "metadata": {
        "id": "Z12vW8RUZ9nD"
      },
      "source": [
        "#Que-18 Write a Python program to train Logistic Regression and identify important features based on model coefficients.\n",
        "#**Ans-18**"
      ]
    },
    {
      "cell_type": "code",
      "execution_count": 28,
      "metadata": {
        "colab": {
          "base_uri": "https://localhost:8080/"
        },
        "id": "C3VTPbb_5XEN",
        "outputId": "09d2e7b6-41b0-4cd4-e6c8-12332803e434"
      },
      "outputs": [
        {
          "name": "stdout",
          "output_type": "stream",
          "text": [
            "online_support: -0.11970701434263537\n",
            "contract_length: -0.07242010518672416\n",
            "monthly_bill: 0.057143468410568596\n",
            "data_usage: 0.04248680045211942\n",
            "customer_age: 0.004802538926286238\n"
          ]
        }
      ],
      "source": [
        "import pandas as pd\n",
        "from sklearn.model_selection import train_test_split\n",
        "from sklearn.linear_model import LogisticRegression\n",
        "\n",
        "# Load the dataset\n",
        "np.random.seed(0)\n",
        "n_samples = 1000\n",
        "data = pd.DataFrame({\n",
        "    'customer_age': np.random.randint(20, 70, n_samples),\n",
        "    'monthly_bill': np.random.uniform(20, 150, n_samples),\n",
        "    'data_usage': np.random.uniform(0, 100, n_samples),\n",
        "    'contract_length': np.random.randint(1, 36, n_samples),\n",
        "    'online_support': np.random.randint(0, 2, n_samples)  # 0: No, 1: Yes\n",
        "})\n",
        "# Simulate churn based on some conditions (this is just example logic)\n",
        "data['churn'] = (data['monthly_bill'] > 100) | (data['contract_length'] < 6) | (data['data_usage'] > 80)\n",
        "data['churn'] = data['churn'].astype(int) # Convert True/False to 1/0\n",
        "\n",
        "\n",
        "# 2. Prepare data (features and target)\n",
        "X = data[['customer_age', 'monthly_bill', 'data_usage', 'contract_length', 'online_support']]\n",
        "y = data['churn']\n",
        "\n",
        "# Split the dataset into training and testing sets\n",
        "X_train, X_test, y_train, y_test = train_test_split(X, y, test_size=0.2, random_state=42)\n",
        "\n",
        "# Create and train the Logistic Regression model\n",
        "model = LogisticRegression()\n",
        "model.fit(X_train, y_train)\n",
        "\n",
        "# Get feature importance based on coefficients\n",
        "importance = model.coef_[0]\n",
        "\n",
        "# Create a dictionary of feature names and their importance\n",
        "feature_importance = dict(zip(X.columns, importance))\n",
        "\n",
        "# Print feature importance\n",
        "for feature, importance_score in sorted(feature_importance.items(), key=lambda item: abs(item[1]), reverse=True):\n",
        "    print(f\"{feature}: {importance_score}\")"
      ]
    },
    {
      "cell_type": "markdown",
      "metadata": {
        "id": "uCuXtjZ5Z9sh"
      },
      "source": [
        "#Que-19 Write a Python program to train Logistic Regression and evaluate its performance using Cohen’s Kappa Score.\n",
        "#**Ans-19**"
      ]
    },
    {
      "cell_type": "code",
      "execution_count": 29,
      "metadata": {
        "colab": {
          "base_uri": "https://localhost:8080/"
        },
        "id": "n7Vzo9l95irE",
        "outputId": "90c78469-b4d9-4ee7-ec52-1b92b78f5998"
      },
      "outputs": [
        {
          "name": "stdout",
          "output_type": "stream",
          "text": [
            "Cohen's Kappa Score: 0.6067880794701987\n"
          ]
        }
      ],
      "source": [
        "import pandas as pd\n",
        "from sklearn.model_selection import train_test_split\n",
        "from sklearn.linear_model import LogisticRegression\n",
        "from sklearn.metrics import cohen_kappa_score\n",
        "\n",
        "# Load the dataset\n",
        "np.random.seed(0)\n",
        "n_samples = 1000\n",
        "data = pd.DataFrame({\n",
        "    'customer_age': np.random.randint(20, 70, n_samples),\n",
        "    'monthly_bill': np.random.uniform(20, 150, n_samples),\n",
        "    'data_usage': np.random.uniform(0, 100, n_samples),\n",
        "    'contract_length': np.random.randint(1, 36, n_samples),\n",
        "    'online_support': np.random.randint(0, 2, n_samples)  # 0: No, 1: Yes\n",
        "})\n",
        "# Simulate churn based on some conditions (this is just example logic)\n",
        "data['churn'] = (data['monthly_bill'] > 100) | (data['contract_length'] < 6) | (data['data_usage'] > 80)\n",
        "data['churn'] = data['churn'].astype(int) # Convert True/False to 1/0\n",
        "\n",
        "\n",
        "# 2. Prepare data (features and target)\n",
        "X = data[['customer_age', 'monthly_bill', 'data_usage', 'contract_length', 'online_support']]\n",
        "y = data['churn']\n",
        "\n",
        "# Split the dataset into training and testing sets\n",
        "X_train, X_test, y_train, y_test = train_test_split(X, y, test_size=0.2, random_state=42)\n",
        "\n",
        "# Create and train the Logistic Regression model\n",
        "model = LogisticRegression()\n",
        "model.fit(X_train, y_train)\n",
        "\n",
        "# Make predictions on the testing set\n",
        "y_pred = model.predict(X_test)\n",
        "\n",
        "# Calculate Cohen's Kappa Score\n",
        "kappa = cohen_kappa_score(y_test, y_pred)\n",
        "\n",
        "# Print the Cohen's Kappa Score\n",
        "print(f\"Cohen's Kappa Score: {kappa}\")"
      ]
    },
    {
      "cell_type": "markdown",
      "metadata": {
        "id": "-hjooBbMZ9yr"
      },
      "source": [
        "#Que-20 Write a Python program to train Logistic Regression and visualize the Precision-Recall Curve for binary classificatio:\n",
        "#**Ans-20**"
      ]
    },
    {
      "cell_type": "code",
      "execution_count": 30,
      "metadata": {
        "colab": {
          "base_uri": "https://localhost:8080/",
          "height": 564
        },
        "id": "HHGtnXgl5sIs",
        "outputId": "3b82adde-62a1-45a0-be2a-d4136ffce198"
      },
      "outputs": [
        {
          "data": {
            "image/png": "[encoded data removed]",
            "text/plain": [
              "<Figure size 800x600 with 1 Axes>"
            ]
          },
          "metadata": {},
          "output_type": "display_data"
        }
      ],
      "source": [
        "import pandas as pd\n",
        "import matplotlib.pyplot as plt\n",
        "from sklearn.model_selection import train_test_split\n",
        "from sklearn.linear_model import LogisticRegression\n",
        "from sklearn.metrics import precision_recall_curve, average_precision_score\n",
        "\n",
        "# Load the dataset\n",
        "np.random.seed(0)\n",
        "n_samples = 1000\n",
        "data = pd.DataFrame({\n",
        "    'customer_age': np.random.randint(20, 70, n_samples),\n",
        "    'monthly_bill': np.random.uniform(20, 150, n_samples),\n",
        "    'data_usage': np.random.uniform(0, 100, n_samples),\n",
        "    'contract_length': np.random.randint(1, 36, n_samples),\n",
        "    'online_support': np.random.randint(0, 2, n_samples)  # 0: No, 1: Yes\n",
        "})\n",
        "# Simulate churn based on some conditions (this is just example logic)\n",
        "data['churn'] = (data['monthly_bill'] > 100) | (data['contract_length'] < 6) | (data['data_usage'] > 80)\n",
        "data['churn'] = data['churn'].astype(int) # Convert True/False to 1/0\n",
        "\n",
        "\n",
        "# 2. Prepare data (features and target)\n",
        "X = data[['customer_age', 'monthly_bill', 'data_usage', 'contract_length', 'online_support']]\n",
        "y = data['churn']\n",
        "\n",
        "# Split the dataset into training and testing sets\n",
        "X_train, X_test, y_train, y_test = train_test_split(X, y, test_size=0.2, random_state=42)\n",
        "\n",
        "# Create and train the Logistic Regression model\n",
        "model = LogisticRegression()\n",
        "model.fit(X_train, y_train)\n",
        "\n",
        "# Predict probabilities on the testing set\n",
        "y_probs = model.predict_proba(X_test)[:, 1]  # Get probabilities for the positive class\n",
        "\n",
        "# Calculate precision and recall\n",
        "precision, recall, _ = precision_recall_curve(y_test, y_probs)\n",
        "\n",
        "# Calculate average precision score\n",
        "average_precision = average_precision_score(y_test, y_probs)\n",
        "\n",
        "# Plot the Precision-Recall curve\n",
        "plt.figure(figsize=(8, 6))\n",
        "plt.step(recall, precision, color='b', alpha=0.2, where='post')\n",
        "plt.fill_between(recall, precision, step='post', alpha=0.2, color='b')\n",
        "plt.xlabel('Recall')\n",
        "plt.ylabel('Precision')\n",
        "plt.ylim([0.0, 1.05])\n",
        "plt.xlim([0.0, 1.0])\n",
        "plt.title(f'Precision-Recall curve: AP={average_precision:.2f}')\n",
        "plt.show()"
      ]
    },
    {
      "cell_type": "markdown",
      "metadata": {
        "id": "5sEzAgl4Z94x"
      },
      "source": [
        "#Que-21 Write a Python program to train Logistic Regression with different solvers (liblinear, saga, lbfgs) and compare their accuracy.\n",
        "#**Ans-21**"
      ]
    },
    {
      "cell_type": "code",
      "execution_count": 31,
      "metadata": {
        "colab": {
          "base_uri": "https://localhost:8080/"
        },
        "id": "GXWNyUS85--7",
        "outputId": "135010f2-6089-4d5e-f491-3ab7543821e0"
      },
      "outputs": [
        {
          "name": "stdout",
          "output_type": "stream",
          "text": [
            "Accuracy with solver 'liblinear': 0.8\n",
            "Accuracy with solver 'saga': 0.75\n",
            "Accuracy with solver 'lbfgs': 0.81\n"
          ]
        },
        {
          "name": "stderr",
          "output_type": "stream",
          "text": [
            "/usr/local/lib/python3.11/dist-packages/sklearn/linear_model/_sag.py:348: ConvergenceWarning: The max_iter was reached which means the coef_ did not converge\n",
            "  warnings.warn(\n"
          ]
        }
      ],
      "source": [
        "import pandas as pd\n",
        "from sklearn.model_selection import train_test_split\n",
        "from sklearn.linear_model import LogisticRegression\n",
        "from sklearn.metrics import accuracy_score\n",
        "\n",
        "# Load the dataset\n",
        "np.random.seed(0)\n",
        "n_samples = 1000\n",
        "data = pd.DataFrame({\n",
        "    'customer_age': np.random.randint(20, 70, n_samples),\n",
        "    'monthly_bill': np.random.uniform(20, 150, n_samples),\n",
        "    'data_usage': np.random.uniform(0, 100, n_samples),\n",
        "    'contract_length': np.random.randint(1, 36, n_samples),\n",
        "    'online_support': np.random.randint(0, 2, n_samples)  # 0: No, 1: Yes\n",
        "})\n",
        "# Simulate churn based on some conditions (this is just example logic)\n",
        "data['churn'] = (data['monthly_bill'] > 100) | (data['contract_length'] < 6) | (data['data_usage'] > 80)\n",
        "data['churn'] = data['churn'].astype(int) # Convert True/False to 1/0\n",
        "\n",
        "\n",
        "# 2. Prepare data (features and target)\n",
        "X = data[['customer_age', 'monthly_bill', 'data_usage', 'contract_length', 'online_support']]\n",
        "y = data['churn']\n",
        "\n",
        "# Split the dataset into training and testing sets\n",
        "X_train, X_test, y_train, y_test = train_test_split(X, y, test_size=0.2, random_state=42)\n",
        "\n",
        "# Define a list of solvers to compare\n",
        "solvers = ['liblinear', 'saga', 'lbfgs']\n",
        "\n",
        "# Train and evaluate Logistic Regression with each solver\n",
        "for solver in solvers:\n",
        "    model = LogisticRegression(solver=solver)  # Specify the solver\n",
        "    model.fit(X_train, y_train)\n",
        "    y_pred = model.predict(X_test)\n",
        "    accuracy = accuracy_score(y_test, y_pred)\n",
        "    print(f\"Accuracy with solver '{solver}': {accuracy}\")"
      ]
    },
    {
      "cell_type": "markdown",
      "metadata": {
        "id": "9shbvThiZ9_6"
      },
      "source": [
        "#Que-22 Write a Python program to train Logistic Regression and evaluate its performance using Matthews Correlation Coefficient (MCC).\n",
        "#**Ans-22**"
      ]
    },
    {
      "cell_type": "code",
      "execution_count": 32,
      "metadata": {
        "colab": {
          "base_uri": "https://localhost:8080/"
        },
        "id": "lRsX3b8c6KbS",
        "outputId": "f97c7d87-7eb2-4eb0-d522-eff13599594e"
      },
      "outputs": [
        {
          "name": "stdout",
          "output_type": "stream",
          "text": [
            "Matthews Correlation Coefficient (MCC): 0.6100629797190257\n"
          ]
        }
      ],
      "source": [
        "import pandas as pd\n",
        "from sklearn.model_selection import train_test_split\n",
        "from sklearn.linear_model import LogisticRegression\n",
        "from sklearn.metrics import matthews_corrcoef\n",
        "\n",
        "# Load the dataset\n",
        "np.random.seed(0)\n",
        "n_samples = 1000\n",
        "data = pd.DataFrame({\n",
        "    'customer_age': np.random.randint(20, 70, n_samples),\n",
        "    'monthly_bill': np.random.uniform(20, 150, n_samples),\n",
        "    'data_usage': np.random.uniform(0, 100, n_samples),\n",
        "    'contract_length': np.random.randint(1, 36, n_samples),\n",
        "    'online_support': np.random.randint(0, 2, n_samples)  # 0: No, 1: Yes\n",
        "})\n",
        "# Simulate churn based on some conditions (this is just example logic)\n",
        "data['churn'] = (data['monthly_bill'] > 100) | (data['contract_length'] < 6) | (data['data_usage'] > 80)\n",
        "data['churn'] = data['churn'].astype(int) # Convert True/False to 1/0\n",
        "\n",
        "\n",
        "# 2. Prepare data (features and target)\n",
        "X = data[['customer_age', 'monthly_bill', 'data_usage', 'contract_length', 'online_support']]\n",
        "y = data['churn']\n",
        "\n",
        "# Split the dataset into training and testing sets\n",
        "X_train, X_test, y_train, y_test = train_test_split(X, y, test_size=0.2, random_state=42)\n",
        "\n",
        "# Create and train the Logistic Regression model\n",
        "model = LogisticRegression()\n",
        "model.fit(X_train, y_train)\n",
        "\n",
        "# Make predictions on the testing set\n",
        "y_pred = model.predict(X_test)\n",
        "\n",
        "# Calculate Matthews Correlation Coefficient (MCC)\n",
        "mcc = matthews_corrcoef(y_test, y_pred)\n",
        "\n",
        "# Print the MCC score\n",
        "print(f\"Matthews Correlation Coefficient (MCC): {mcc}\")"
      ]
    },
    {
      "cell_type": "markdown",
      "metadata": {
        "id": "UeccjHh6Z-G5"
      },
      "source": [
        "#Que-23 Write a Python program to train Logistic Regression on both raw and standardized data. Compare their accuracy to see the impact of feature scaling.\n",
        "#**Ans-23**"
      ]
    },
    {
      "cell_type": "code",
      "execution_count": 33,
      "metadata": {
        "colab": {
          "base_uri": "https://localhost:8080/"
        },
        "id": "EjixtKBE6TtL",
        "outputId": "47b18f21-b4c3-4399-f49c-95f5eaf60a60"
      },
      "outputs": [
        {
          "name": "stdout",
          "output_type": "stream",
          "text": [
            "Accuracy on raw data: 0.81\n",
            "Accuracy on standardized data: 0.81\n",
            "Difference in accuracy: 0.0\n"
          ]
        }
      ],
      "source": [
        "import pandas as pd\n",
        "from sklearn.model_selection import train_test_split\n",
        "from sklearn.preprocessing import StandardScaler\n",
        "from sklearn.linear_model import LogisticRegression\n",
        "from sklearn.metrics import accuracy_score\n",
        "\n",
        "# Load the dataset\n",
        "np.random.seed(0)\n",
        "n_samples = 1000\n",
        "data = pd.DataFrame({\n",
        "    'customer_age': np.random.randint(20, 70, n_samples),\n",
        "    'monthly_bill': np.random.uniform(20, 150, n_samples),\n",
        "    'data_usage': np.random.uniform(0, 100, n_samples),\n",
        "    'contract_length': np.random.randint(1, 36, n_samples),\n",
        "    'online_support': np.random.randint(0, 2, n_samples)  # 0: No, 1: Yes\n",
        "})\n",
        "# Simulate churn based on some conditions (this is just example logic)\n",
        "data['churn'] = (data['monthly_bill'] > 100) | (data['contract_length'] < 6) | (data['data_usage'] > 80)\n",
        "data['churn'] = data['churn'].astype(int) # Convert True/False to 1/0\n",
        "\n",
        "\n",
        "# 2. Prepare data (features and target)\n",
        "X = data[['customer_age', 'monthly_bill', 'data_usage', 'contract_length', 'online_support']]\n",
        "y = data['churn']\n",
        "\n",
        "# Split the dataset into training and testing sets\n",
        "X_train, X_test, y_train, y_test = train_test_split(X, y, test_size=0.2, random_state=42)\n",
        "\n",
        "# Train and evaluate on raw data\n",
        "model_raw = LogisticRegression()\n",
        "model_raw.fit(X_train, y_train)\n",
        "y_pred_raw = model_raw.predict(X_test)\n",
        "accuracy_raw = accuracy_score(y_test, y_pred_raw)\n",
        "print(f\"Accuracy on raw data: {accuracy_raw}\")\n",
        "\n",
        "# Standardize the data\n",
        "scaler = StandardScaler()\n",
        "X_train_scaled = scaler.fit_transform(X_train)\n",
        "X_test_scaled = scaler.transform(X_test)\n",
        "\n",
        "# Train and evaluate on standardized data\n",
        "model_scaled = LogisticRegression()\n",
        "model_scaled.fit(X_train_scaled, y_train)\n",
        "y_pred_scaled = model_scaled.predict(X_test_scaled)\n",
        "accuracy_scaled = accuracy_score(y_test, y_pred_scaled)\n",
        "print(f\"Accuracy on standardized data: {accuracy_scaled}\")\n",
        "\n",
        "# Compare accuracy\n",
        "print(f\"Difference in accuracy: {accuracy_scaled - accuracy_raw}\")"
      ]
    },
    {
      "cell_type": "markdown",
      "metadata": {
        "id": "eNltgShlZ-NZ"
      },
      "source": [
        "#Que-24 Write a Python program to train Logistic Regression and find the optimal C (regularization strength) using cross-validation.\n",
        "#**Ans-24**"
      ]
    },
    {
      "cell_type": "code",
      "execution_count": 34,
      "metadata": {
        "colab": {
          "base_uri": "https://localhost:8080/"
        },
        "id": "e4W2VnD16ePZ",
        "outputId": "8d3cf435-c5b9-445d-cad5-4b86d309f0ad"
      },
      "outputs": [
        {
          "name": "stdout",
          "output_type": "stream",
          "text": [
            "Best C: 0.001\n",
            "Best Accuracy: 0.8125\n",
            "Accuracy on testing set: 0.81\n"
          ]
        }
      ],
      "source": [
        "import pandas as pd\n",
        "from sklearn.model_selection import train_test_split, GridSearchCV\n",
        "from sklearn.linear_model import LogisticRegression\n",
        "from sklearn.metrics import accuracy_score\n",
        "\n",
        "# Load the dataset\n",
        "np.random.seed(0)\n",
        "n_samples = 1000\n",
        "data = pd.DataFrame({\n",
        "    'customer_age': np.random.randint(20, 70, n_samples),\n",
        "    'monthly_bill': np.random.uniform(20, 150, n_samples),\n",
        "    'data_usage': np.random.uniform(0, 100, n_samples),\n",
        "    'contract_length': np.random.randint(1, 36, n_samples),\n",
        "    'online_support': np.random.randint(0, 2, n_samples)  # 0: No, 1: Yes\n",
        "})\n",
        "# Simulate churn based on some conditions (this is just example logic)\n",
        "data['churn'] = (data['monthly_bill'] > 100) | (data['contract_length'] < 6) | (data['data_usage'] > 80)\n",
        "data['churn'] = data['churn'].astype(int) # Convert True/False to 1/0\n",
        "\n",
        "\n",
        "# 2. Prepare data (features and target)\n",
        "X = data[['customer_age', 'monthly_bill', 'data_usage', 'contract_length', 'online_support']]\n",
        "y = data['churn']\n",
        "\n",
        "# Split the dataset into training and testing sets\n",
        "X_train, X_test, y_train, y_test = train_test_split(X, y, test_size=0.2, random_state=42)\n",
        "\n",
        "# Define the hyperparameter grid for C\n",
        "param_grid = {'C': [0.001, 0.01, 0.1, 1, 10, 100]}\n",
        "\n",
        "# Create a Logistic Regression model\n",
        "model = LogisticRegression()\n",
        "\n",
        "# Create GridSearchCV object\n",
        "grid_search = GridSearchCV(model, param_grid, cv=5, scoring='accuracy')  # cv=5 for 5-fold cross-validation\n",
        "\n",
        "# Fit GridSearchCV to the training data\n",
        "grid_search.fit(X_train, y_train)\n",
        "\n",
        "# Get the best C value and the corresponding accuracy\n",
        "best_C = grid_search.best_params_['C']\n",
        "best_accuracy = grid_search.best_score_\n",
        "\n",
        "# Print the best C value and accuracy\n",
        "print(f\"Best C: {best_C}\")\n",
        "print(f\"Best Accuracy: {best_accuracy}\")\n",
        "\n",
        "# Train the final model with the best C value\n",
        "final_model = LogisticRegression(C=best_C)\n",
        "final_model.fit(X_train, y_train)\n",
        "\n",
        "# Evaluate the final model on the testing set\n",
        "y_pred = final_model.predict(X_test)\n",
        "accuracy = accuracy_score(y_test, y_pred)\n",
        "print(f\"Accuracy on testing set: {accuracy}\")"
      ]
    },
    {
      "cell_type": "markdown",
      "metadata": {
        "id": "zdnnQjKLZ-VD"
      },
      "source": [
        "#Que-25 Write a Python program to train Logistic Regression, save the trained model using joblib, and load it again to make predictions.\n",
        "#**Ans-25**"
      ]
    },
    {
      "cell_type": "code",
      "execution_count": 35,
      "metadata": {
        "colab": {
          "base_uri": "https://localhost:8080/"
        },
        "id": "tFy_T8v36oTZ",
        "outputId": "d3406902-9a72-4d1f-8435-7cd650f7dfab"
      },
      "outputs": [
        {
          "name": "stdout",
          "output_type": "stream",
          "text": [
            "Accuracy of loaded model: 0.81\n"
          ]
        }
      ],
      "source": [
        "import pandas as pd\n",
        "from sklearn.model_selection import train_test_split\n",
        "from sklearn.linear_model import LogisticRegression\n",
        "from sklearn.metrics import accuracy_score\n",
        "import joblib\n",
        "\n",
        "# Load the dataset\n",
        "np.random.seed(0)\n",
        "n_samples = 1000\n",
        "data = pd.DataFrame({\n",
        "    'customer_age': np.random.randint(20, 70, n_samples),\n",
        "    'monthly_bill': np.random.uniform(20, 150, n_samples),\n",
        "    'data_usage': np.random.uniform(0, 100, n_samples),\n",
        "    'contract_length': np.random.randint(1, 36, n_samples),\n",
        "    'online_support': np.random.randint(0, 2, n_samples)  # 0: No, 1: Yes\n",
        "})\n",
        "# Simulate churn based on some conditions (this is just example logic)\n",
        "data['churn'] = (data['monthly_bill'] > 100) | (data['contract_length'] < 6) | (data['data_usage'] > 80)\n",
        "data['churn'] = data['churn'].astype(int) # Convert True/False to 1/0\n",
        "\n",
        "\n",
        "# 2. Prepare data (features and target)\n",
        "X = data[['customer_age', 'monthly_bill', 'data_usage', 'contract_length', 'online_support']]\n",
        "y = data['churn']\n",
        "\n",
        "# Split the dataset into training and testing sets\n",
        "X_train, X_test, y_train, y_test = train_test_split(X, y, test_size=0.2, random_state=42)\n",
        "\n",
        "# Create and train the Logistic Regression model\n",
        "model = LogisticRegression()\n",
        "model.fit(X_train, y_train)\n",
        "\n",
        "# Save the trained model using joblib\n",
        "joblib.dump(model, 'logistic_regression_model.pkl')\n",
        "\n",
        "# Load the saved model\n",
        "loaded_model = joblib.load('logistic_regression_model.pkl')\n",
        "\n",
        "# Make predictions on the testing set using the loaded model\n",
        "y_pred = loaded_model.predict(X_test)\n",
        "\n",
        "# Calculate accuracy\n",
        "accuracy = accuracy_score(y_test, y_pred)\n",
        "\n",
        "# Print the accuracy\n",
        "print(f\"Accuracy of loaded model: {accuracy}\")"
      ]
    }
  ],
  "metadata": {
    "colab": {
      "provenance": []
    },
    "kernelspec": {
      "display_name": "Python 3",
      "name": "python3"
    },
    "language_info": {
      "name": "python"
    }
  },
  "nbformat": 4,
  "nbformat_minor": 0
}
